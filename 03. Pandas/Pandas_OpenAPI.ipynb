{
 "cells": [
  {
   "cell_type": "code",
   "execution_count": 1,
   "metadata": {},
   "outputs": [],
   "source": [
    "import pandas as pd\n",
    "import requests\n",
    "from pandas.io.json import json_normalize"
   ]
  },
  {
   "cell_type": "code",
   "execution_count": 7,
   "metadata": {},
   "outputs": [],
   "source": [
    "url = 'http://kosis.kr/openapi/Param/statisticsParameterData.do?method=getList&apiKey=ZmY2Yzg3OTY1ODQ3Y2FlMDE4MDVkZTMyN2MxM2ZjMjA=&itmId=T10+&objL1=ALL&objL2=ALL&objL3=&objL4=&objL5=&objL6=&objL7=&objL8=&format=json&jsonVD=Y&prdSe=M&newEstPrdCnt=1&loadGubun=2&orgId=101&tblId=DT_1G1B002'"
   ]
  },
  {
   "cell_type": "code",
   "execution_count": 8,
   "metadata": {},
   "outputs": [
    {
     "data": {
      "text/plain": [
       "<Response [200]>"
      ]
     },
     "execution_count": 8,
     "metadata": {},
     "output_type": "execute_result"
    }
   ],
   "source": [
    "# 정상 여부 확인 (200 정상)\n",
    "response = requests.get(url)\n",
    "response"
   ]
  },
  {
   "cell_type": "code",
   "execution_count": 9,
   "metadata": {},
   "outputs": [],
   "source": [
    "# JSON 데이터 획득\n",
    "json = response.json()"
   ]
  },
  {
   "cell_type": "code",
   "execution_count": 10,
   "metadata": {},
   "outputs": [
    {
     "data": {
      "text/html": [
       "<div>\n",
       "<style scoped>\n",
       "    .dataframe tbody tr th:only-of-type {\n",
       "        vertical-align: middle;\n",
       "    }\n",
       "\n",
       "    .dataframe tbody tr th {\n",
       "        vertical-align: top;\n",
       "    }\n",
       "\n",
       "    .dataframe thead th {\n",
       "        text-align: right;\n",
       "    }\n",
       "</style>\n",
       "<table border=\"1\" class=\"dataframe\">\n",
       "  <thead>\n",
       "    <tr style=\"text-align: right;\">\n",
       "      <th></th>\n",
       "      <th>C1</th>\n",
       "      <th>C1_NM</th>\n",
       "      <th>C1_NM_ENG</th>\n",
       "      <th>C1_OBJ_NM</th>\n",
       "      <th>C1_OBJ_NM_ENG</th>\n",
       "      <th>C2</th>\n",
       "      <th>C2_NM</th>\n",
       "      <th>C2_NM_ENG</th>\n",
       "      <th>C2_OBJ_NM</th>\n",
       "      <th>C2_OBJ_NM_ENG</th>\n",
       "      <th>...</th>\n",
       "      <th>ITM_ID</th>\n",
       "      <th>ITM_NM</th>\n",
       "      <th>ITM_NM_ENG</th>\n",
       "      <th>ORG_ID</th>\n",
       "      <th>PRD_DE</th>\n",
       "      <th>PRD_SE</th>\n",
       "      <th>TBL_ID</th>\n",
       "      <th>TBL_NM</th>\n",
       "      <th>UNIT_NM</th>\n",
       "      <th>UNIT_NM_ENG</th>\n",
       "    </tr>\n",
       "  </thead>\n",
       "  <tbody>\n",
       "    <tr>\n",
       "      <th>0</th>\n",
       "      <td>0</td>\n",
       "      <td>수주총액</td>\n",
       "      <td>Total amount of orders received</td>\n",
       "      <td>발주자별</td>\n",
       "      <td>By the kind of orderer</td>\n",
       "      <td>0</td>\n",
       "      <td>계</td>\n",
       "      <td>Total</td>\n",
       "      <td>공종별</td>\n",
       "      <td>By the kind of construction works</td>\n",
       "      <td>...</td>\n",
       "      <td>T10</td>\n",
       "      <td>수주액</td>\n",
       "      <td>Value of order received</td>\n",
       "      <td>101</td>\n",
       "      <td>201902</td>\n",
       "      <td>M</td>\n",
       "      <td>DT_1G1B002</td>\n",
       "      <td>발주자/공종별 건설수주액(경상)</td>\n",
       "      <td>백만원</td>\n",
       "      <td>Million Won</td>\n",
       "    </tr>\n",
       "    <tr>\n",
       "      <th>1</th>\n",
       "      <td>0</td>\n",
       "      <td>수주총액</td>\n",
       "      <td>Total amount of orders received</td>\n",
       "      <td>발주자별</td>\n",
       "      <td>By the kind of orderer</td>\n",
       "      <td>1</td>\n",
       "      <td>건축</td>\n",
       "      <td>Building</td>\n",
       "      <td>공종별</td>\n",
       "      <td>By the kind of construction works</td>\n",
       "      <td>...</td>\n",
       "      <td>T10</td>\n",
       "      <td>수주액</td>\n",
       "      <td>Value of order received</td>\n",
       "      <td>101</td>\n",
       "      <td>201902</td>\n",
       "      <td>M</td>\n",
       "      <td>DT_1G1B002</td>\n",
       "      <td>발주자/공종별 건설수주액(경상)</td>\n",
       "      <td>백만원</td>\n",
       "      <td>Million Won</td>\n",
       "    </tr>\n",
       "    <tr>\n",
       "      <th>2</th>\n",
       "      <td>0</td>\n",
       "      <td>수주총액</td>\n",
       "      <td>Total amount of orders received</td>\n",
       "      <td>발주자별</td>\n",
       "      <td>By the kind of orderer</td>\n",
       "      <td>11</td>\n",
       "      <td>주택</td>\n",
       "      <td>Dwellings</td>\n",
       "      <td>공종별</td>\n",
       "      <td>By the kind of construction works</td>\n",
       "      <td>...</td>\n",
       "      <td>T10</td>\n",
       "      <td>수주액</td>\n",
       "      <td>Value of order received</td>\n",
       "      <td>101</td>\n",
       "      <td>201902</td>\n",
       "      <td>M</td>\n",
       "      <td>DT_1G1B002</td>\n",
       "      <td>발주자/공종별 건설수주액(경상)</td>\n",
       "      <td>백만원</td>\n",
       "      <td>Million Won</td>\n",
       "    </tr>\n",
       "    <tr>\n",
       "      <th>3</th>\n",
       "      <td>0</td>\n",
       "      <td>수주총액</td>\n",
       "      <td>Total amount of orders received</td>\n",
       "      <td>발주자별</td>\n",
       "      <td>By the kind of orderer</td>\n",
       "      <td>12</td>\n",
       "      <td>사무실 및 점포</td>\n",
       "      <td>Offices ＆ stores</td>\n",
       "      <td>공종별</td>\n",
       "      <td>By the kind of construction works</td>\n",
       "      <td>...</td>\n",
       "      <td>T10</td>\n",
       "      <td>수주액</td>\n",
       "      <td>Value of order received</td>\n",
       "      <td>101</td>\n",
       "      <td>201902</td>\n",
       "      <td>M</td>\n",
       "      <td>DT_1G1B002</td>\n",
       "      <td>발주자/공종별 건설수주액(경상)</td>\n",
       "      <td>백만원</td>\n",
       "      <td>Million Won</td>\n",
       "    </tr>\n",
       "    <tr>\n",
       "      <th>4</th>\n",
       "      <td>0</td>\n",
       "      <td>수주총액</td>\n",
       "      <td>Total amount of orders received</td>\n",
       "      <td>발주자별</td>\n",
       "      <td>By the kind of orderer</td>\n",
       "      <td>13</td>\n",
       "      <td>공장 및 창고</td>\n",
       "      <td>Factory ＆ storage</td>\n",
       "      <td>공종별</td>\n",
       "      <td>By the kind of construction works</td>\n",
       "      <td>...</td>\n",
       "      <td>T10</td>\n",
       "      <td>수주액</td>\n",
       "      <td>Value of order received</td>\n",
       "      <td>101</td>\n",
       "      <td>201902</td>\n",
       "      <td>M</td>\n",
       "      <td>DT_1G1B002</td>\n",
       "      <td>발주자/공종별 건설수주액(경상)</td>\n",
       "      <td>백만원</td>\n",
       "      <td>Million Won</td>\n",
       "    </tr>\n",
       "  </tbody>\n",
       "</table>\n",
       "<p>5 rows × 21 columns</p>\n",
       "</div>"
      ],
      "text/plain": [
       "  C1 C1_NM                        C1_NM_ENG C1_OBJ_NM           C1_OBJ_NM_ENG  \\\n",
       "0  0  수주총액  Total amount of orders received      발주자별  By the kind of orderer   \n",
       "1  0  수주총액  Total amount of orders received      발주자별  By the kind of orderer   \n",
       "2  0  수주총액  Total amount of orders received      발주자별  By the kind of orderer   \n",
       "3  0  수주총액  Total amount of orders received      발주자별  By the kind of orderer   \n",
       "4  0  수주총액  Total amount of orders received      발주자별  By the kind of orderer   \n",
       "\n",
       "   C2      C2_NM           C2_NM_ENG C2_OBJ_NM  \\\n",
       "0   0          계               Total       공종별   \n",
       "1   1         건축            Building       공종별   \n",
       "2  11         주택          　Dwellings       공종별   \n",
       "3  12   사무실 및 점포   　Offices ＆ stores       공종별   \n",
       "4  13    공장 및 창고  　Factory ＆ storage       공종별   \n",
       "\n",
       "                       C2_OBJ_NM_ENG     ...      ITM_ID ITM_NM  \\\n",
       "0  By the kind of construction works     ...         T10    수주액   \n",
       "1  By the kind of construction works     ...         T10    수주액   \n",
       "2  By the kind of construction works     ...         T10    수주액   \n",
       "3  By the kind of construction works     ...         T10    수주액   \n",
       "4  By the kind of construction works     ...         T10    수주액   \n",
       "\n",
       "                ITM_NM_ENG ORG_ID  PRD_DE PRD_SE      TBL_ID  \\\n",
       "0  Value of order received    101  201902      M  DT_1G1B002   \n",
       "1  Value of order received    101  201902      M  DT_1G1B002   \n",
       "2  Value of order received    101  201902      M  DT_1G1B002   \n",
       "3  Value of order received    101  201902      M  DT_1G1B002   \n",
       "4  Value of order received    101  201902      M  DT_1G1B002   \n",
       "\n",
       "              TBL_NM UNIT_NM  UNIT_NM_ENG  \n",
       "0  발주자/공종별 건설수주액(경상)     백만원  Million Won  \n",
       "1  발주자/공종별 건설수주액(경상)     백만원  Million Won  \n",
       "2  발주자/공종별 건설수주액(경상)     백만원  Million Won  \n",
       "3  발주자/공종별 건설수주액(경상)     백만원  Million Won  \n",
       "4  발주자/공종별 건설수주액(경상)     백만원  Million Won  \n",
       "\n",
       "[5 rows x 21 columns]"
      ]
     },
     "execution_count": 10,
     "metadata": {},
     "output_type": "execute_result"
    }
   ],
   "source": [
    "# PandasDataframe변환\n",
    "df = json_normalize(json)\n",
    "df.head()"
   ]
  },
  {
   "cell_type": "code",
   "execution_count": 12,
   "metadata": {},
   "outputs": [],
   "source": [
    "df.to_csv(\"./건설수주액.csv\", encoding='ms949', index=False)"
   ]
  },
  {
   "cell_type": "code",
   "execution_count": 21,
   "metadata": {},
   "outputs": [],
   "source": [
    "url2 = 'http://openapi.airkorea.or.kr/openapi/services/rest/ArpltnInforInqireSvc?ServiceKey=lcxt1GSMbWlNmzjIKi%2Bh5V%2BzLVniouvqEMsusuX2HWcuor6pg6fGXrz7QFbFAFzJOGz%2FuQlYun%2Bl4zgd%2Fj7eew%3D%3D&_returnType=json'"
   ]
  },
  {
   "cell_type": "code",
   "execution_count": 22,
   "metadata": {},
   "outputs": [
    {
     "data": {
      "text/plain": [
       "<Response [200]>"
      ]
     },
     "execution_count": 22,
     "metadata": {},
     "output_type": "execute_result"
    }
   ],
   "source": [
    "response2 = requests.get(url2)\n",
    "response2"
   ]
  },
  {
   "cell_type": "code",
   "execution_count": 23,
   "metadata": {},
   "outputs": [
    {
     "ename": "JSONDecodeError",
     "evalue": "Expecting value: line 1 column 1 (char 0)",
     "output_type": "error",
     "traceback": [
      "\u001b[1;31m---------------------------------------------------------------------------\u001b[0m",
      "\u001b[1;31mJSONDecodeError\u001b[0m                           Traceback (most recent call last)",
      "\u001b[1;32m<ipython-input-23-4edc1efad399>\u001b[0m in \u001b[0;36m<module>\u001b[1;34m()\u001b[0m\n\u001b[1;32m----> 1\u001b[1;33m \u001b[0mjson2\u001b[0m \u001b[1;33m=\u001b[0m \u001b[0mresponse2\u001b[0m\u001b[1;33m.\u001b[0m\u001b[0mjson\u001b[0m\u001b[1;33m(\u001b[0m\u001b[1;33m)\u001b[0m\u001b[1;33m\u001b[0m\u001b[0m\n\u001b[0m",
      "\u001b[1;32m~\\Anaconda3\\lib\\site-packages\\requests\\models.py\u001b[0m in \u001b[0;36mjson\u001b[1;34m(self, **kwargs)\u001b[0m\n\u001b[0;32m    890\u001b[0m                     \u001b[1;31m# used.\u001b[0m\u001b[1;33m\u001b[0m\u001b[1;33m\u001b[0m\u001b[0m\n\u001b[0;32m    891\u001b[0m                     \u001b[1;32mpass\u001b[0m\u001b[1;33m\u001b[0m\u001b[0m\n\u001b[1;32m--> 892\u001b[1;33m         \u001b[1;32mreturn\u001b[0m \u001b[0mcomplexjson\u001b[0m\u001b[1;33m.\u001b[0m\u001b[0mloads\u001b[0m\u001b[1;33m(\u001b[0m\u001b[0mself\u001b[0m\u001b[1;33m.\u001b[0m\u001b[0mtext\u001b[0m\u001b[1;33m,\u001b[0m \u001b[1;33m**\u001b[0m\u001b[0mkwargs\u001b[0m\u001b[1;33m)\u001b[0m\u001b[1;33m\u001b[0m\u001b[0m\n\u001b[0m\u001b[0;32m    893\u001b[0m \u001b[1;33m\u001b[0m\u001b[0m\n\u001b[0;32m    894\u001b[0m     \u001b[1;33m@\u001b[0m\u001b[0mproperty\u001b[0m\u001b[1;33m\u001b[0m\u001b[0m\n",
      "\u001b[1;32m~\\Anaconda3\\lib\\json\\__init__.py\u001b[0m in \u001b[0;36mloads\u001b[1;34m(s, encoding, cls, object_hook, parse_float, parse_int, parse_constant, object_pairs_hook, **kw)\u001b[0m\n\u001b[0;32m    352\u001b[0m             \u001b[0mparse_int\u001b[0m \u001b[1;32mis\u001b[0m \u001b[1;32mNone\u001b[0m \u001b[1;32mand\u001b[0m \u001b[0mparse_float\u001b[0m \u001b[1;32mis\u001b[0m \u001b[1;32mNone\u001b[0m \u001b[1;32mand\u001b[0m\u001b[1;33m\u001b[0m\u001b[0m\n\u001b[0;32m    353\u001b[0m             parse_constant is None and object_pairs_hook is None and not kw):\n\u001b[1;32m--> 354\u001b[1;33m         \u001b[1;32mreturn\u001b[0m \u001b[0m_default_decoder\u001b[0m\u001b[1;33m.\u001b[0m\u001b[0mdecode\u001b[0m\u001b[1;33m(\u001b[0m\u001b[0ms\u001b[0m\u001b[1;33m)\u001b[0m\u001b[1;33m\u001b[0m\u001b[0m\n\u001b[0m\u001b[0;32m    355\u001b[0m     \u001b[1;32mif\u001b[0m \u001b[0mcls\u001b[0m \u001b[1;32mis\u001b[0m \u001b[1;32mNone\u001b[0m\u001b[1;33m:\u001b[0m\u001b[1;33m\u001b[0m\u001b[0m\n\u001b[0;32m    356\u001b[0m         \u001b[0mcls\u001b[0m \u001b[1;33m=\u001b[0m \u001b[0mJSONDecoder\u001b[0m\u001b[1;33m\u001b[0m\u001b[0m\n",
      "\u001b[1;32m~\\Anaconda3\\lib\\json\\decoder.py\u001b[0m in \u001b[0;36mdecode\u001b[1;34m(self, s, _w)\u001b[0m\n\u001b[0;32m    337\u001b[0m \u001b[1;33m\u001b[0m\u001b[0m\n\u001b[0;32m    338\u001b[0m         \"\"\"\n\u001b[1;32m--> 339\u001b[1;33m         \u001b[0mobj\u001b[0m\u001b[1;33m,\u001b[0m \u001b[0mend\u001b[0m \u001b[1;33m=\u001b[0m \u001b[0mself\u001b[0m\u001b[1;33m.\u001b[0m\u001b[0mraw_decode\u001b[0m\u001b[1;33m(\u001b[0m\u001b[0ms\u001b[0m\u001b[1;33m,\u001b[0m \u001b[0midx\u001b[0m\u001b[1;33m=\u001b[0m\u001b[0m_w\u001b[0m\u001b[1;33m(\u001b[0m\u001b[0ms\u001b[0m\u001b[1;33m,\u001b[0m \u001b[1;36m0\u001b[0m\u001b[1;33m)\u001b[0m\u001b[1;33m.\u001b[0m\u001b[0mend\u001b[0m\u001b[1;33m(\u001b[0m\u001b[1;33m)\u001b[0m\u001b[1;33m)\u001b[0m\u001b[1;33m\u001b[0m\u001b[0m\n\u001b[0m\u001b[0;32m    340\u001b[0m         \u001b[0mend\u001b[0m \u001b[1;33m=\u001b[0m \u001b[0m_w\u001b[0m\u001b[1;33m(\u001b[0m\u001b[0ms\u001b[0m\u001b[1;33m,\u001b[0m \u001b[0mend\u001b[0m\u001b[1;33m)\u001b[0m\u001b[1;33m.\u001b[0m\u001b[0mend\u001b[0m\u001b[1;33m(\u001b[0m\u001b[1;33m)\u001b[0m\u001b[1;33m\u001b[0m\u001b[0m\n\u001b[0;32m    341\u001b[0m         \u001b[1;32mif\u001b[0m \u001b[0mend\u001b[0m \u001b[1;33m!=\u001b[0m \u001b[0mlen\u001b[0m\u001b[1;33m(\u001b[0m\u001b[0ms\u001b[0m\u001b[1;33m)\u001b[0m\u001b[1;33m:\u001b[0m\u001b[1;33m\u001b[0m\u001b[0m\n",
      "\u001b[1;32m~\\Anaconda3\\lib\\json\\decoder.py\u001b[0m in \u001b[0;36mraw_decode\u001b[1;34m(self, s, idx)\u001b[0m\n\u001b[0;32m    355\u001b[0m             \u001b[0mobj\u001b[0m\u001b[1;33m,\u001b[0m \u001b[0mend\u001b[0m \u001b[1;33m=\u001b[0m \u001b[0mself\u001b[0m\u001b[1;33m.\u001b[0m\u001b[0mscan_once\u001b[0m\u001b[1;33m(\u001b[0m\u001b[0ms\u001b[0m\u001b[1;33m,\u001b[0m \u001b[0midx\u001b[0m\u001b[1;33m)\u001b[0m\u001b[1;33m\u001b[0m\u001b[0m\n\u001b[0;32m    356\u001b[0m         \u001b[1;32mexcept\u001b[0m \u001b[0mStopIteration\u001b[0m \u001b[1;32mas\u001b[0m \u001b[0merr\u001b[0m\u001b[1;33m:\u001b[0m\u001b[1;33m\u001b[0m\u001b[0m\n\u001b[1;32m--> 357\u001b[1;33m             \u001b[1;32mraise\u001b[0m \u001b[0mJSONDecodeError\u001b[0m\u001b[1;33m(\u001b[0m\u001b[1;34m\"Expecting value\"\u001b[0m\u001b[1;33m,\u001b[0m \u001b[0ms\u001b[0m\u001b[1;33m,\u001b[0m \u001b[0merr\u001b[0m\u001b[1;33m.\u001b[0m\u001b[0mvalue\u001b[0m\u001b[1;33m)\u001b[0m \u001b[1;32mfrom\u001b[0m \u001b[1;32mNone\u001b[0m\u001b[1;33m\u001b[0m\u001b[0m\n\u001b[0m\u001b[0;32m    358\u001b[0m         \u001b[1;32mreturn\u001b[0m \u001b[0mobj\u001b[0m\u001b[1;33m,\u001b[0m \u001b[0mend\u001b[0m\u001b[1;33m\u001b[0m\u001b[0m\n",
      "\u001b[1;31mJSONDecodeError\u001b[0m: Expecting value: line 1 column 1 (char 0)"
     ]
    }
   ],
   "source": [
    "json2 = response2.json()"
   ]
  },
  {
   "cell_type": "code",
   "execution_count": 20,
   "metadata": {},
   "outputs": [
    {
     "ename": "NameError",
     "evalue": "name 'json2' is not defined",
     "output_type": "error",
     "traceback": [
      "\u001b[1;31m---------------------------------------------------------------------------\u001b[0m",
      "\u001b[1;31mNameError\u001b[0m                                 Traceback (most recent call last)",
      "\u001b[1;32m<ipython-input-20-ee2313cf8d60>\u001b[0m in \u001b[0;36m<module>\u001b[1;34m()\u001b[0m\n\u001b[1;32m----> 1\u001b[1;33m \u001b[0mdf2\u001b[0m \u001b[1;33m=\u001b[0m \u001b[0mjson_normalize\u001b[0m\u001b[1;33m(\u001b[0m\u001b[0mjson2\u001b[0m\u001b[1;33m)\u001b[0m\u001b[1;33m\u001b[0m\u001b[0m\n\u001b[0m\u001b[0;32m      2\u001b[0m \u001b[0mdf2\u001b[0m\u001b[1;33m.\u001b[0m\u001b[0mhead\u001b[0m\u001b[1;33m(\u001b[0m\u001b[1;33m)\u001b[0m\u001b[1;33m\u001b[0m\u001b[0m\n",
      "\u001b[1;31mNameError\u001b[0m: name 'json2' is not defined"
     ]
    }
   ],
   "source": [
    "df2 = json_normalize(json2)\n",
    "df2.head()"
   ]
  },
  {
   "cell_type": "code",
   "execution_count": null,
   "metadata": {},
   "outputs": [],
   "source": []
  }
 ],
 "metadata": {
  "kernelspec": {
   "display_name": "Python 3",
   "language": "python",
   "name": "python3"
  },
  "language_info": {
   "codemirror_mode": {
    "name": "ipython",
    "version": 3
   },
   "file_extension": ".py",
   "mimetype": "text/x-python",
   "name": "python",
   "nbconvert_exporter": "python",
   "pygments_lexer": "ipython3",
   "version": "3.6.4"
  }
 },
 "nbformat": 4,
 "nbformat_minor": 2
}
