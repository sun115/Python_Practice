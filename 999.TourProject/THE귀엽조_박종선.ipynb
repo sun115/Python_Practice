{
 "cells": [
  {
   "cell_type": "code",
   "execution_count": 1,
   "metadata": {},
   "outputs": [],
   "source": [
    "import pandas as pd\n",
    "import numpy as np\n",
    "import math"
   ]
  },
  {
   "cell_type": "code",
   "execution_count": 2,
   "metadata": {},
   "outputs": [
    {
     "ename": "FileNotFoundError",
     "evalue": "[Errno 2] No such file or directory: '../tourdataset/tourdata2017_1.xlsx'",
     "output_type": "error",
     "traceback": [
      "\u001b[1;31m---------------------------------------------------------------------------\u001b[0m",
      "\u001b[1;31mFileNotFoundError\u001b[0m                         Traceback (most recent call last)",
      "\u001b[1;32m<ipython-input-2-d8122d5197e6>\u001b[0m in \u001b[0;36m<module>\u001b[1;34m()\u001b[0m\n\u001b[1;32m----> 1\u001b[1;33m \u001b[0mrawdata1\u001b[0m \u001b[1;33m=\u001b[0m \u001b[0mpd\u001b[0m\u001b[1;33m.\u001b[0m\u001b[0mread_excel\u001b[0m\u001b[1;33m(\u001b[0m\u001b[1;34m\"../tourdataset/tourdata2017_1.xlsx\"\u001b[0m\u001b[1;33m)\u001b[0m\u001b[1;33m\u001b[0m\u001b[0m\n\u001b[0m\u001b[0;32m      2\u001b[0m \u001b[0mrawdata2\u001b[0m \u001b[1;33m=\u001b[0m \u001b[0mpd\u001b[0m\u001b[1;33m.\u001b[0m\u001b[0mread_excel\u001b[0m\u001b[1;33m(\u001b[0m\u001b[1;34m\"../tourdataset/tourdata2017_2.xlsx\"\u001b[0m\u001b[1;33m)\u001b[0m\u001b[1;33m\u001b[0m\u001b[0m\n\u001b[0;32m      3\u001b[0m \u001b[0mrawdata3\u001b[0m \u001b[1;33m=\u001b[0m \u001b[0mpd\u001b[0m\u001b[1;33m.\u001b[0m\u001b[0mread_excel\u001b[0m\u001b[1;33m(\u001b[0m\u001b[1;34m\"../tourdataset/tourdata2017_3.xlsx\"\u001b[0m\u001b[1;33m)\u001b[0m\u001b[1;33m\u001b[0m\u001b[0m\n",
      "\u001b[1;32m~\\Anaconda3\\lib\\site-packages\\pandas\\util\\_decorators.py\u001b[0m in \u001b[0;36mwrapper\u001b[1;34m(*args, **kwargs)\u001b[0m\n\u001b[0;32m    116\u001b[0m                 \u001b[1;32melse\u001b[0m\u001b[1;33m:\u001b[0m\u001b[1;33m\u001b[0m\u001b[0m\n\u001b[0;32m    117\u001b[0m                     \u001b[0mkwargs\u001b[0m\u001b[1;33m[\u001b[0m\u001b[0mnew_arg_name\u001b[0m\u001b[1;33m]\u001b[0m \u001b[1;33m=\u001b[0m \u001b[0mnew_arg_value\u001b[0m\u001b[1;33m\u001b[0m\u001b[0m\n\u001b[1;32m--> 118\u001b[1;33m             \u001b[1;32mreturn\u001b[0m \u001b[0mfunc\u001b[0m\u001b[1;33m(\u001b[0m\u001b[1;33m*\u001b[0m\u001b[0margs\u001b[0m\u001b[1;33m,\u001b[0m \u001b[1;33m**\u001b[0m\u001b[0mkwargs\u001b[0m\u001b[1;33m)\u001b[0m\u001b[1;33m\u001b[0m\u001b[0m\n\u001b[0m\u001b[0;32m    119\u001b[0m         \u001b[1;32mreturn\u001b[0m \u001b[0mwrapper\u001b[0m\u001b[1;33m\u001b[0m\u001b[0m\n\u001b[0;32m    120\u001b[0m     \u001b[1;32mreturn\u001b[0m \u001b[0m_deprecate_kwarg\u001b[0m\u001b[1;33m\u001b[0m\u001b[0m\n",
      "\u001b[1;32m~\\Anaconda3\\lib\\site-packages\\pandas\\io\\excel.py\u001b[0m in \u001b[0;36mread_excel\u001b[1;34m(io, sheet_name, header, skiprows, skip_footer, index_col, names, usecols, parse_dates, date_parser, na_values, thousands, convert_float, converters, dtype, true_values, false_values, engine, squeeze, **kwds)\u001b[0m\n\u001b[0;32m    228\u001b[0m \u001b[1;33m\u001b[0m\u001b[0m\n\u001b[0;32m    229\u001b[0m     \u001b[1;32mif\u001b[0m \u001b[1;32mnot\u001b[0m \u001b[0misinstance\u001b[0m\u001b[1;33m(\u001b[0m\u001b[0mio\u001b[0m\u001b[1;33m,\u001b[0m \u001b[0mExcelFile\u001b[0m\u001b[1;33m)\u001b[0m\u001b[1;33m:\u001b[0m\u001b[1;33m\u001b[0m\u001b[0m\n\u001b[1;32m--> 230\u001b[1;33m         \u001b[0mio\u001b[0m \u001b[1;33m=\u001b[0m \u001b[0mExcelFile\u001b[0m\u001b[1;33m(\u001b[0m\u001b[0mio\u001b[0m\u001b[1;33m,\u001b[0m \u001b[0mengine\u001b[0m\u001b[1;33m=\u001b[0m\u001b[0mengine\u001b[0m\u001b[1;33m)\u001b[0m\u001b[1;33m\u001b[0m\u001b[0m\n\u001b[0m\u001b[0;32m    231\u001b[0m \u001b[1;33m\u001b[0m\u001b[0m\n\u001b[0;32m    232\u001b[0m     return io._parse_excel(\n",
      "\u001b[1;32m~\\Anaconda3\\lib\\site-packages\\pandas\\io\\excel.py\u001b[0m in \u001b[0;36m__init__\u001b[1;34m(self, io, **kwds)\u001b[0m\n\u001b[0;32m    292\u001b[0m             \u001b[0mself\u001b[0m\u001b[1;33m.\u001b[0m\u001b[0mbook\u001b[0m \u001b[1;33m=\u001b[0m \u001b[0mxlrd\u001b[0m\u001b[1;33m.\u001b[0m\u001b[0mopen_workbook\u001b[0m\u001b[1;33m(\u001b[0m\u001b[0mfile_contents\u001b[0m\u001b[1;33m=\u001b[0m\u001b[0mdata\u001b[0m\u001b[1;33m)\u001b[0m\u001b[1;33m\u001b[0m\u001b[0m\n\u001b[0;32m    293\u001b[0m         \u001b[1;32melif\u001b[0m \u001b[0misinstance\u001b[0m\u001b[1;33m(\u001b[0m\u001b[0mself\u001b[0m\u001b[1;33m.\u001b[0m\u001b[0m_io\u001b[0m\u001b[1;33m,\u001b[0m \u001b[0mcompat\u001b[0m\u001b[1;33m.\u001b[0m\u001b[0mstring_types\u001b[0m\u001b[1;33m)\u001b[0m\u001b[1;33m:\u001b[0m\u001b[1;33m\u001b[0m\u001b[0m\n\u001b[1;32m--> 294\u001b[1;33m             \u001b[0mself\u001b[0m\u001b[1;33m.\u001b[0m\u001b[0mbook\u001b[0m \u001b[1;33m=\u001b[0m \u001b[0mxlrd\u001b[0m\u001b[1;33m.\u001b[0m\u001b[0mopen_workbook\u001b[0m\u001b[1;33m(\u001b[0m\u001b[0mself\u001b[0m\u001b[1;33m.\u001b[0m\u001b[0m_io\u001b[0m\u001b[1;33m)\u001b[0m\u001b[1;33m\u001b[0m\u001b[0m\n\u001b[0m\u001b[0;32m    295\u001b[0m         \u001b[1;32melse\u001b[0m\u001b[1;33m:\u001b[0m\u001b[1;33m\u001b[0m\u001b[0m\n\u001b[0;32m    296\u001b[0m             raise ValueError('Must explicitly set engine if not passing in'\n",
      "\u001b[1;32m~\\Anaconda3\\lib\\site-packages\\xlrd\\__init__.py\u001b[0m in \u001b[0;36mopen_workbook\u001b[1;34m(filename, logfile, verbosity, use_mmap, file_contents, encoding_override, formatting_info, on_demand, ragged_rows)\u001b[0m\n\u001b[0;32m    114\u001b[0m         \u001b[0mpeek\u001b[0m \u001b[1;33m=\u001b[0m \u001b[0mfile_contents\u001b[0m\u001b[1;33m[\u001b[0m\u001b[1;33m:\u001b[0m\u001b[0mpeeksz\u001b[0m\u001b[1;33m]\u001b[0m\u001b[1;33m\u001b[0m\u001b[0m\n\u001b[0;32m    115\u001b[0m     \u001b[1;32melse\u001b[0m\u001b[1;33m:\u001b[0m\u001b[1;33m\u001b[0m\u001b[0m\n\u001b[1;32m--> 116\u001b[1;33m         \u001b[1;32mwith\u001b[0m \u001b[0mopen\u001b[0m\u001b[1;33m(\u001b[0m\u001b[0mfilename\u001b[0m\u001b[1;33m,\u001b[0m \u001b[1;34m\"rb\"\u001b[0m\u001b[1;33m)\u001b[0m \u001b[1;32mas\u001b[0m \u001b[0mf\u001b[0m\u001b[1;33m:\u001b[0m\u001b[1;33m\u001b[0m\u001b[0m\n\u001b[0m\u001b[0;32m    117\u001b[0m             \u001b[0mpeek\u001b[0m \u001b[1;33m=\u001b[0m \u001b[0mf\u001b[0m\u001b[1;33m.\u001b[0m\u001b[0mread\u001b[0m\u001b[1;33m(\u001b[0m\u001b[0mpeeksz\u001b[0m\u001b[1;33m)\u001b[0m\u001b[1;33m\u001b[0m\u001b[0m\n\u001b[0;32m    118\u001b[0m     \u001b[1;32mif\u001b[0m \u001b[0mpeek\u001b[0m \u001b[1;33m==\u001b[0m \u001b[1;34mb\"PK\\x03\\x04\"\u001b[0m\u001b[1;33m:\u001b[0m \u001b[1;31m# a ZIP file\u001b[0m\u001b[1;33m\u001b[0m\u001b[0m\n",
      "\u001b[1;31mFileNotFoundError\u001b[0m: [Errno 2] No such file or directory: '../tourdataset/tourdata2017_1.xlsx'"
     ]
    }
   ],
   "source": [
    "rawdata1 = pd.read_excel(\"../tourdataset/tourdata2017_1.xlsx\")\n",
    "rawdata2 = pd.read_excel(\"../tourdataset/tourdata2017_2.xlsx\")\n",
    "rawdata3 = pd.read_excel(\"../tourdataset/tourdata2017_3.xlsx\")"
   ]
  },
  {
   "cell_type": "code",
   "execution_count": null,
   "metadata": {},
   "outputs": [],
   "source": [
    "# 컬럼명 통일 (공백제거, 소문자 맞춤)\n",
    "\n",
    "rawdata1.rename(columns=lambda x: x.strip().lower(), inplace=True)\n",
    "rawdata2.rename(columns=lambda x: x.strip().lower(), inplace=True)\n",
    "rawdata3.rename(columns=lambda x: x.strip().lower(), inplace=True)\n",
    "# rawdata3.columns = map(str.lower, rawdata3.columns)"
   ]
  },
  {
   "cell_type": "markdown",
   "metadata": {},
   "source": [
    "### 분석 데이터 생성"
   ]
  },
  {
   "cell_type": "markdown",
   "metadata": {},
   "source": [
    "1-1. 데이터 정제"
   ]
  },
  {
   "cell_type": "code",
   "execution_count": null,
   "metadata": {},
   "outputs": [],
   "source": [
    "# 1. m_id 빈 값 지우기\n",
    "\n",
    "rawdata2 = rawdata2.dropna(subset=[\"m_id\"])\n",
    "rawdata3 = rawdata3.dropna(subset=[\"m_id\"])"
   ]
  },
  {
   "cell_type": "code",
   "execution_count": null,
   "metadata": {},
   "outputs": [],
   "source": [
    "# 국내여행자만 보기\n",
    "\n",
    "rawdata2 = rawdata2[rawdata2[\"type1\"] == 1]\n",
    "rawdata3 = rawdata3[rawdata3[\"type1\"] == 1]"
   ]
  },
  {
   "cell_type": "code",
   "execution_count": null,
   "metadata": {},
   "outputs": [],
   "source": [
    "# 필요한 컬럼만 추출\n",
    "\n",
    "rawdata1 = rawdata1.drop(['sr_type','ara_size', 'school1','school2','marry','inc2_1','wt'], axis = 1)"
   ]
  },
  {
   "cell_type": "code",
   "execution_count": null,
   "metadata": {},
   "outputs": [],
   "source": [
    "rawdata2 = rawdata2[[\"hid\",\"pid\",\"type1\",\"month\",\"q1\",\"q2_c_1\",\"q2_c_2\",\"q3\",\"q4_a\",\n",
    "                       \"q5\",\"q5_1\",\"q5_2_1\",\"q5_2_2\",\"q5_2_3\",\"q5_2_4\",\"q5_2_5\",\"q5_2_6\",\n",
    "                      \"q7\",\"q7_1\",\"q7_3_1\",\"q7_3_2\",\"q7_3_3\",\"q7_3_4\",\"q7_3_5\",\"q7_3_6\",\"q7_3_7\",\"q7_3_8\",\"q7_3_9\",\"q7_3_10\",\n",
    "                      \"q8\",\"q8_1\",\"q8_2\",\"q8_3\",\"q8_4\",\"q8_5\",\"q8_6\",\"q8_7\",\n",
    "                      \"q10_1\",\"q10_2\",\"q10_3\",\"q10_4\",\"q10_5\",\"q10_6\",\"q10_7\",\"q10_8\",\"q10_9\",\"q10_10\",\"q10_11\",\"q10_12\"]]"
   ]
  },
  {
   "cell_type": "code",
   "execution_count": null,
   "metadata": {},
   "outputs": [],
   "source": [
    "rawdata3 = rawdata3.drop(['m_id','type2','q6_1_7','q6_1_8','q6_5_1a','q6_5_2a','q6_5_3a','q6_5_4a','q6_5_5a','q6_5_6a','q6_5_7a','q6_5_8a','q6_5_9a','q6_5_10a','q6_5_11a','q6_5_12a','q6_5_13a', 'wt'], axis = 1)"
   ]
  },
  {
   "cell_type": "markdown",
   "metadata": {},
   "source": [
    "1-2. 1차 join = 단위여행 + 방문지"
   ]
  },
  {
   "cell_type": "code",
   "execution_count": null,
   "metadata": {},
   "outputs": [],
   "source": [
    "# 1차 join = 같은 응답자의 단위여행 데이터와, 방문지 데이터를 합친다.\n",
    "\n",
    "joinKey = [\"hid\",\"pid\",\"month\"]"
   ]
  },
  {
   "cell_type": "code",
   "execution_count": null,
   "metadata": {
    "scrolled": true
   },
   "outputs": [],
   "source": [
    "firstmerge = pd.merge(rawdata2, rawdata3, left_on=joinKey, right_on=joinKey, how=\"left\")"
   ]
  },
  {
   "cell_type": "markdown",
   "metadata": {},
   "source": [
    "2-1. 응답자 20대 추출"
   ]
  },
  {
   "cell_type": "code",
   "execution_count": null,
   "metadata": {
    "scrolled": true
   },
   "outputs": [],
   "source": [
    "rawdata1[\"age_group\"] = np.where(rawdata1[\"age\"]>0, (((rawdata1[\"age\"]/10).astype(int))*10) , 0)"
   ]
  },
  {
   "cell_type": "code",
   "execution_count": null,
   "metadata": {
    "scrolled": true
   },
   "outputs": [],
   "source": [
    "rawdata1 = rawdata1[rawdata1.age_group==20]"
   ]
  },
  {
   "cell_type": "markdown",
   "metadata": {},
   "source": [
    "2-2. 2차 join = 응답자 + 1차 join"
   ]
  },
  {
   "cell_type": "code",
   "execution_count": null,
   "metadata": {},
   "outputs": [],
   "source": [
    "# 2차 join 데이터 = 같은 응답자의 응답자 정보와 1차 join 데이터를 합친다.\n",
    "\n",
    "joinKey2 = [\"hid\",\"pid\"]"
   ]
  },
  {
   "cell_type": "code",
   "execution_count": null,
   "metadata": {
    "scrolled": true
   },
   "outputs": [],
   "source": [
    "secondmerge = pd.merge(rawdata1, firstmerge, left_on=joinKey2, right_on=joinKey2, how=\"left\")"
   ]
  },
  {
   "cell_type": "code",
   "execution_count": null,
   "metadata": {},
   "outputs": [],
   "source": [
    "secondmerge = secondmerge.dropna(subset=[\"q7\"])"
   ]
  },
  {
   "cell_type": "code",
   "execution_count": null,
   "metadata": {
    "scrolled": true
   },
   "outputs": [],
   "source": [
    "secondmerge"
   ]
  },
  {
   "cell_type": "markdown",
   "metadata": {},
   "source": [
    "### 만족도 기준 새로 생성하기"
   ]
  },
  {
   "cell_type": "code",
   "execution_count": null,
   "metadata": {},
   "outputs": [],
   "source": [
    "satisfaction = secondmerge.dropna(subset=[\"q10_1\"]).reset_index(drop = True)"
   ]
  },
  {
   "cell_type": "code",
   "execution_count": null,
   "metadata": {
    "scrolled": false
   },
   "outputs": [],
   "source": [
    "# 항목별 만족도에서 9.경험해보지 못함 -> 0으로 바꿈\n",
    "\n",
    "satisfaction.loc[:,\"q10_1\":\"q10_12\"] = np.where(satisfaction.loc[:,\"q10_1\":\"q10_12\"] == 9,0,satisfaction.loc[:,\"q10_1\":\"q10_12\"])"
   ]
  },
  {
   "cell_type": "code",
   "execution_count": null,
   "metadata": {},
   "outputs": [],
   "source": [
    "tempList = []\n",
    "for i in range(0,len(satisfaction)):\n",
    "    zeroCount = 0\n",
    "    for j in satisfaction.loc[i,\"q10_1\":\"q10_12\"]:\n",
    "    \n",
    "        if j==0:\n",
    "            zeroCount += 1\n",
    "    tempList.append(\n",
    "     (round((math.pow((sum(satisfaction.loc[i,\"q10_1\":\"q10_12\"]) / (12-zeroCount)), 2)) * 10) / 10) * 1.2\n",
    "     + (math.pow((satisfaction.loc[i,\"q6_7\"]), 2) * 1.6)\n",
    "     + (math.pow((satisfaction.loc[i,\"q6_8\"]), 2) * 0.8)\n",
    "     + (math.pow((satisfaction.loc[i,\"q6_9\"]), 2) * 0.4))"
   ]
  },
  {
   "cell_type": "code",
   "execution_count": null,
   "metadata": {},
   "outputs": [],
   "source": [
    "colName = \"q10_grade\"\n",
    "tempDF = pd.DataFrame(tempList, columns=[colName])\n",
    "result01 = pd.concat([satisfaction, tempDF], axis=1)"
   ]
  },
  {
   "cell_type": "code",
   "execution_count": null,
   "metadata": {},
   "outputs": [],
   "source": []
  },
  {
   "cell_type": "code",
   "execution_count": null,
   "metadata": {},
   "outputs": [],
   "source": [
    "satisfaction2 = secondmerge.dropna(subset=[\"q10_1\"]).reset_index(drop = True)"
   ]
  },
  {
   "cell_type": "code",
   "execution_count": null,
   "metadata": {},
   "outputs": [],
   "source": [
    "tempList = []\n",
    "for i in range(0,len(satisfaction2)):\n",
    "    tempList.append(round((sum(satisfaction2.loc[i,\"q6_7\":\"q6_9\"])/3)*2))"
   ]
  },
  {
   "cell_type": "code",
   "execution_count": null,
   "metadata": {},
   "outputs": [],
   "source": [
    "colName = \"q10_grade2\"\n",
    "tempDF = pd.DataFrame(tempList, columns=[colName])\n",
    "result02 = pd.concat([satisfaction2, tempDF], axis=1)"
   ]
  },
  {
   "cell_type": "code",
   "execution_count": null,
   "metadata": {
    "scrolled": true
   },
   "outputs": [],
   "source": [
    "result01"
   ]
  },
  {
   "cell_type": "code",
   "execution_count": null,
   "metadata": {
    "scrolled": true
   },
   "outputs": [],
   "source": [
    "result01.to_csv(\"../tourdataset/result01.csv\")"
   ]
  },
  {
   "cell_type": "code",
   "execution_count": null,
   "metadata": {},
   "outputs": [],
   "source": [
    "'q10_grade'\n",
    "\"hid\", \"pid\", \"sex\" ,\"age\" ,\"sido\" ,\"occ1\" ,\"inc1_1\", 'month'\n",
    "성별, 나이, 거주시도, 직업, 연평군가구소득\n",
    "\"q1\",\"q5\",\"q7\",\"q6_1\",\"q6_4\"\n",
    "당일/숙박, 일행존재여부, 총지출비용, 여행한광역시, 이동수단"
   ]
  },
  {
   "cell_type": "code",
   "execution_count": null,
   "metadata": {},
   "outputs": [],
   "source": [
    "corrGroupKey = [\"hid\",\"pid\",'month','age',\"occ1\" ]"
   ]
  },
  {
   "cell_type": "code",
   "execution_count": null,
   "metadata": {},
   "outputs": [],
   "source": [
    "tmp = result01.groupby(corrGroupKey).sum().reset_index(drop=False)"
   ]
  },
  {
   "cell_type": "code",
   "execution_count": null,
   "metadata": {},
   "outputs": [],
   "source": [
    "columnList = ['q10_grade','hid', 'pid', 'month', 'age', 'sex', 'sido', 'occ1', 'occ2', 'fac', 'inc1_1', 'age_group', 'type1_x', 'q1', 'q2_c_1', 'q2_c_2', 'q3', 'q4_a', 'q5', 'q5_1', 'q5_2_1', 'q5_2_2', 'q5_2_3', 'q5_2_4', 'q5_2_5', 'q5_2_6', 'q7', 'q7_1', 'q7_3_1', 'q7_3_2', 'q7_3_3', 'q7_3_4', 'q7_3_5', 'q7_3_6', 'q7_3_7', 'q7_3_8', 'q7_3_9', 'q7_3_10', 'q8', 'q8_1', 'q8_2', 'q8_3', 'q8_4', 'q8_5', 'q8_6', 'q8_7', 'q10_1', 'q10_2', 'q10_3', 'q10_4', 'q10_5', 'q10_6', 'q10_7', 'q10_8', 'q10_9', 'q10_10', 'q10_11', 'q10_12', 'type1_y', 'q6_1', 'q6_1_1', 'q6_1_2', 'q6_1_3', 'q6_1_4', 'q6_1_5', 'q6_1_6', 'q6_2', 'q6_3_a', 'q6_3_b', 'q6_3_c', 'q6_4', 'q6_5_1', 'q6_5_2', 'q6_5_3', 'q6_5_4', 'q6_5_5', 'q6_5_6', 'q6_5_7', 'q6_5_8', 'q6_5_9', 'q6_5_10', 'q6_5_11', 'q6_5_12', 'q6_5_13', 'q6_6_1', 'q6_6_2', 'q6_6_3', 'q6_6_4', 'q6_6_5', 'q6_6_6', 'q6_6_7', 'q6_6_8', 'q6_6_9', 'q6_6_10', 'q6_6_11', 'q6_6_12', 'q6_6_13', 'q6_6_14', 'q6_6_15', 'q6_6_16', 'q6_6_17', 'q6_6_18', 'q6_6_19', 'q6_6_20', 'q6_6_21', 'q6_7', 'q6_8', 'q6_9', 'q7_2',]"
   ]
  },
  {
   "cell_type": "code",
   "execution_count": null,
   "metadata": {},
   "outputs": [],
   "source": [
    "tmp = tmp[columnList]"
   ]
  },
  {
   "cell_type": "code",
   "execution_count": null,
   "metadata": {},
   "outputs": [],
   "source": [
    "corrDF999 = tmp.corr()"
   ]
  },
  {
   "cell_type": "code",
   "execution_count": null,
   "metadata": {},
   "outputs": [],
   "source": [
    "corrDF999"
   ]
  },
  {
   "cell_type": "code",
   "execution_count": null,
   "metadata": {},
   "outputs": [],
   "source": [
    "corrDF999 = tmp.corr()\n",
    "corrDF999.to_csv(\"../tourdataset/corr001.csv\")"
   ]
  },
  {
   "cell_type": "code",
   "execution_count": null,
   "metadata": {},
   "outputs": [],
   "source": [
    "tempList = []\n",
    "for i in range(0,len(result01)):\n",
    "    jobCode = 1231231247\n",
    "    j = result01[\"occ1\"][i]\n",
    "    if ((j == 14) | (j == 15)):\n",
    "        #대학생\n",
    "        jobCode = 0\n",
    "    elif j < 10:\n",
    "        #직장인\n",
    "        jobCode = 1\n",
    "    elif j == 16:\n",
    "        #무직\n",
    "        jobCode = 2\n",
    "    elif j == 10:\n",
    "        #군인\n",
    "        jobCode = 3\n",
    "    else:\n",
    "        jobCode = 4\n",
    "    tempList.append(jobCode)"
   ]
  },
  {
   "cell_type": "code",
   "execution_count": null,
   "metadata": {},
   "outputs": [],
   "source": [
    "colName = \"job_group\"\n",
    "tempDF = pd.DataFrame(wowList, columns=[colName])\n",
    "result02 = pd.concat([result01, tempDF], axis=1)"
   ]
  },
  {
   "cell_type": "code",
   "execution_count": null,
   "metadata": {
    "scrolled": true
   },
   "outputs": [],
   "source": [
    "result02.to_csv(\"../tourdataset/result02.csv\")"
   ]
  },
  {
   "cell_type": "code",
   "execution_count": null,
   "metadata": {},
   "outputs": [],
   "source": [
    "result02[\"prop_id\"] = result02[\"hid\"]+result02[\"pid\"]+result02[\"month\"]"
   ]
  },
  {
   "cell_type": "code",
   "execution_count": null,
   "metadata": {
    "scrolled": true
   },
   "outputs": [],
   "source": [
    "result02"
   ]
  },
  {
   "cell_type": "code",
   "execution_count": null,
   "metadata": {},
   "outputs": [],
   "source": []
  },
  {
   "cell_type": "markdown",
   "metadata": {},
   "source": [
    "### K-Means Clustering"
   ]
  },
  {
   "cell_type": "code",
   "execution_count": null,
   "metadata": {},
   "outputs": [],
   "source": [
    "import pandas as pd\n",
    "# K-Means 라이브러리\n",
    "from sklearn.cluster import KMeans\n",
    "# 시각화 라이브러리\n",
    "import matplotlib.pyplot as plt\n",
    "import seaborn as sns"
   ]
  },
  {
   "cell_type": "code",
   "execution_count": null,
   "metadata": {},
   "outputs": [],
   "source": [
    "# Only needed if you want to display your plots inline if using Notebook\n",
    "# change inline to auto if you have Spyder installed\n",
    "%matplotlib inline"
   ]
  },
  {
   "cell_type": "code",
   "execution_count": null,
   "metadata": {},
   "outputs": [],
   "source": [
    "def elbow(X):\n",
    "    sse = []\n",
    "    for i in range(1,11):\n",
    "        km = KMeans(n_clusters=i, init=\"k-means++\", random_state=0)\n",
    "        km.fit(X)\n",
    "        sse.append(km.inertia_)\n",
    "    plt.plot(range(1,11),sse,marker='o')\n",
    "    plt.xlabel('cluster number')\n",
    "    plt.ylabel('SSE')\n",
    "    plt.show()"
   ]
  },
  {
   "cell_type": "code",
   "execution_count": null,
   "metadata": {},
   "outputs": [],
   "source": [
    "### 기본정보 가지고 있기\n",
    "base = result02[[\"prop_id\",\"q10_grade\",\"job_group\"]]\n",
    "### 특성정보 분리\n",
    "features = result02[[\"q1\",\"q3\" ,\"q4_a\",\"q5_1\",\"q7\", \"q8\"]]\n",
    "# \"q1\",\"q3\" ,\"q4_a\",\"q5_1\",\"q7\", \"q8\"\n",
    "# q1 당일/숙박여행여부\n",
    "# q3 여행목적\n",
    "# q4_a 정보획득지\n",
    "# q5_1 동행일행수\n",
    "# q7 동행일행수\n",
    "# q8 사전예약여부"
   ]
  },
  {
   "cell_type": "code",
   "execution_count": null,
   "metadata": {},
   "outputs": [],
   "source": [
    "# 클러스터 갯수 정하기\n",
    "elbow(features)"
   ]
  },
  {
   "cell_type": "code",
   "execution_count": null,
   "metadata": {
    "scrolled": true
   },
   "outputs": [],
   "source": [
    "model = KMeans(n_clusters=2, algorithm='auto')\n",
    "model.fit(features)\n",
    "### ATL (Above The Line) 가시적, \n",
    "### BTL (Below The Line) 비가시적, 신문광고 등"
   ]
  },
  {
   "cell_type": "code",
   "execution_count": null,
   "metadata": {},
   "outputs": [],
   "source": [
    "predict = pd.DataFrame(model.predict(features))\n",
    "predict.columns=[\"cluster\"]"
   ]
  },
  {
   "cell_type": "code",
   "execution_count": null,
   "metadata": {
    "scrolled": true
   },
   "outputs": [],
   "source": [
    "result03 = pd.concat([base, features, predict], axis = 1)\n",
    "result03"
   ]
  },
  {
   "cell_type": "code",
   "execution_count": null,
   "metadata": {},
   "outputs": [],
   "source": [
    "job0 = result03[result03[\"job_group\"]==0]   #대학생\n",
    "job1 = result03[result03[\"job_group\"]==1]   #직장인\n",
    "\n",
    "job2 = result03[result03[\"job_group\"]==2]   #무직\n",
    "job3 = result03[result03[\"job_group\"]==3]   #군인"
   ]
  },
  {
   "cell_type": "code",
   "execution_count": null,
   "metadata": {},
   "outputs": [],
   "source": [
    "xAxis = job1[\"q7\"]\n",
    "yAxis = job1[\"q10_grade\"]\n",
    "cluster = job1[\"cluster\"]"
   ]
  },
  {
   "cell_type": "code",
   "execution_count": null,
   "metadata": {},
   "outputs": [],
   "source": [
    "plt.scatter(xAxis, yAxis, c=cluster, alpha=0.5)"
   ]
  },
  {
   "cell_type": "markdown",
   "metadata": {},
   "source": [
    "centers = pd.DataFrame(model.cluster_centers_,columns=['q1','q3'])\n",
    "center_x = centers['q1']\n",
    "center_y = centers['q3']\n",
    "plt.scatter(center_x,center_y,s=50,marker='D',c='r')\n",
    "plt.show()"
   ]
  },
  {
   "cell_type": "code",
   "execution_count": null,
   "metadata": {},
   "outputs": [],
   "source": [
    "# result01 = rawdata 세 개 합친 버전\n",
    "# result02 = result01 + job group 버전\n",
    "# result03 = clustering 버전\n",
    "# result04 = result01 + job group + clustering + q7 grade 버전"
   ]
  },
  {
   "cell_type": "code",
   "execution_count": null,
   "metadata": {
    "scrolled": false
   },
   "outputs": [],
   "source": [
    "result04 = pd.concat([result02, predict], axis = 1)\n",
    "result04.columns"
   ]
  },
  {
   "cell_type": "code",
   "execution_count": null,
   "metadata": {},
   "outputs": [],
   "source": [
    "# .reset_index(drop=False)"
   ]
  },
  {
   "cell_type": "code",
   "execution_count": null,
   "metadata": {},
   "outputs": [],
   "source": [
    "max(result04[\"q7\"])"
   ]
  },
  {
   "cell_type": "code",
   "execution_count": null,
   "metadata": {},
   "outputs": [],
   "source": [
    "tmp = result04.groupby([\"q7\"]).count()[[\"prop_id\"]]"
   ]
  },
  {
   "cell_type": "code",
   "execution_count": null,
   "metadata": {
    "scrolled": true
   },
   "outputs": [],
   "source": [
    "tmp"
   ]
  },
  {
   "cell_type": "code",
   "execution_count": null,
   "metadata": {},
   "outputs": [],
   "source": [
    "len(result04[result04[\"q7\"]==0])"
   ]
  },
  {
   "cell_type": "code",
   "execution_count": null,
   "metadata": {},
   "outputs": [],
   "source": [
    "tempList = []\n",
    "for i in range(0,len(result04)):\n",
    "    howMuch = i * 10000\n",
    "    if result04.loc[i,\"q7\"]==0:\n",
    "        tempList.append(0)\n",
    "    else:\n",
    "        amountGrade = ((result04.loc[i,\"q7\"]/10000).astype(int)) * 10000\n",
    "        tempList.append(amountGrade)\n",
    "#     else:\n",
    "#         tempList.append(result04.loc[i,\"q7\"])"
   ]
  },
  {
   "cell_type": "code",
   "execution_count": null,
   "metadata": {},
   "outputs": [],
   "source": [
    "colName = \"q7_grade\"\n",
    "tempDF = pd.DataFrame(tempList, columns=[colName])\n",
    "result04 = pd.concat([result04, tempDF], axis=1)"
   ]
  },
  {
   "cell_type": "code",
   "execution_count": null,
   "metadata": {
    "scrolled": true
   },
   "outputs": [],
   "source": [
    "max(result04[\"q2_c_1\"])"
   ]
  },
  {
   "cell_type": "code",
   "execution_count": null,
   "metadata": {},
   "outputs": [],
   "source": [
    "# 금액대 별로 몇 명씩 있는지 볼까?\n",
    "tmp = result04.groupby([\"q7_grade\"]).count()[[\"prop_id\"]]"
   ]
  },
  {
   "cell_type": "markdown",
   "metadata": {},
   "source": [
    "### Decision Tree"
   ]
  },
  {
   "cell_type": "code",
   "execution_count": null,
   "metadata": {},
   "outputs": [],
   "source": [
    "job0 = result04[result04[\"job_group\"]==0]   #대학생\n",
    "job1 = result04[result04[\"job_group\"]==1]   #직장인\n",
    "job2 = result04[result04[\"job_group\"]==2]   #무직\n",
    "job3 = result04[result04[\"job_group\"]==3]   #군인"
   ]
  },
  {
   "cell_type": "code",
   "execution_count": null,
   "metadata": {},
   "outputs": [],
   "source": [
    "len(job3)"
   ]
  },
  {
   "cell_type": "code",
   "execution_count": null,
   "metadata": {},
   "outputs": [],
   "source": [
    "from sklearn import datasets, tree\n",
    "from sklearn.metrics import mean_squared_error\n",
    "from sklearn.metrics import mean_absolute_error\n",
    "from sklearn.metrics import r2_score"
   ]
  },
  {
   "cell_type": "code",
   "execution_count": null,
   "metadata": {},
   "outputs": [],
   "source": []
  },
  {
   "cell_type": "code",
   "execution_count": null,
   "metadata": {},
   "outputs": [],
   "source": [
    "features = []\n",
    "#features.append(\"q3\") #여행목적\n",
    "#features.append(\"q4_a\") #정보획득지\n",
    "# features.append(\"q1\") # 당일/숙박 여행 여부\n",
    "# features.append(\"q8\") #사전예약여부\n",
    "features.append(\"q7_grade\") # 금액대\n",
    "features"
   ]
  },
  {
   "cell_type": "code",
   "execution_count": null,
   "metadata": {
    "scrolled": true
   },
   "outputs": [],
   "source": [
    "label = ['q10_grade']\n",
    "label"
   ]
  },
  {
   "cell_type": "code",
   "execution_count": null,
   "metadata": {},
   "outputs": [],
   "source": [
    "# 데이터 분리 & null값 0으로 대체\n",
    "\n",
    "# features = 특성, label = 답지\n",
    "# random 614개(학습할 특성)\n",
    "trainingData_features = job3[job3.index%4 != 0][features]\n",
    "trainingData_features = trainingData_features.fillna(0)\n",
    "# random 614개(학습할 답지)\n",
    "trainingData_features = job3[job3.index%4 != 0][label]\n",
    "trainingData_label = trainingData_label.fillna(0)\n",
    "\n",
    "# random 209개(검증할 특성)\n",
    "testData_features = job3[job3.index%4 == 0][features]\n",
    "testData_features = testData_features.fillna(0)\n",
    "# random 209개(검증할 답지)\n",
    "# 맨뒤에 [label]이 없는 이유는 전체를 같이 보기 위해서\n",
    "testData_label = job3[job3.index%4 == 0]\n",
    "testData_label = testData_label.fillna(0)"
   ]
  },
  {
   "cell_type": "code",
   "execution_count": null,
   "metadata": {
    "scrolled": true
   },
   "outputs": [],
   "source": [
    "testData = testData_label.reset_index(drop = True)"
   ]
  },
  {
   "cell_type": "code",
   "execution_count": null,
   "metadata": {},
   "outputs": [],
   "source": [
    "# Define Model (모델 정의)\n",
    "model_method = tree.DecisionTreeRegressor()\n",
    "\n",
    "# Learning (Feature & Label)\n",
    "# trainingData_features, trainingData_label을 인자로 던져주면 모델을 만들어줌.\n",
    "# fit<< 학습시킬때 쓰는 함수, 학습할 특성과 학습할 답지 모두 인자로 던져주어야함.\n",
    "model = model_method.fit(trainingData_features, trainingData_label)\n",
    "model"
   ]
  },
  {
   "cell_type": "code",
   "execution_count": null,
   "metadata": {
    "scrolled": true
   },
   "outputs": [],
   "source": [
    "predict = model.predict(testData_features)\n",
    "predict\n",
    "\n",
    "### 데이터프레임으로 변환(DecisionTreeRegression)\n",
    "predictData = pd.DataFrame(predict)\n",
    "\n",
    "#컬럼헤더명 바꾸기\n",
    "predictData.columns = [\"DecisionTree Regression\"]\n",
    "\n",
    "#컬럼 인덱스를 통해서 컬럼헤더명 바꾸기\n",
    "#predictData = predictData.rename(columns = {0:\"PREDICT\"})\n",
    "predictData = predictData.reset_index(drop = True)"
   ]
  },
  {
   "cell_type": "code",
   "execution_count": null,
   "metadata": {
    "scrolled": true
   },
   "outputs": [],
   "source": [
    "resultData = pd.concat([testData, predictData], axis=1)"
   ]
  },
  {
   "cell_type": "code",
   "execution_count": null,
   "metadata": {
    "scrolled": true
   },
   "outputs": [],
   "source": [
    "from sklearn.externals.six import StringIO  \n",
    "from IPython.display import Image  \n",
    "from sklearn.tree import export_graphviz\n",
    "import pydotplus\n",
    "dot_data = StringIO()\n",
    "export_graphviz(model, out_file=dot_data, \n",
    "                rounded=True,\n",
    "                filled = True,\n",
    "                feature_names=features,\n",
    "                special_characters=True)\n",
    "graph = pydotplus.graph_from_dot_data(dot_data.getvalue())  \n",
    "Image(graph.create_png())"
   ]
  },
  {
   "cell_type": "code",
   "execution_count": null,
   "metadata": {},
   "outputs": [],
   "source": [
    "sum(job0[\"q7_grade\"])/len(job0[\"q7_grade\"])"
   ]
  },
  {
   "cell_type": "code",
   "execution_count": null,
   "metadata": {},
   "outputs": [],
   "source": [
    "sum(job1[\"q7_grade\"])/len(job1[\"q7_grade\"])"
   ]
  },
  {
   "cell_type": "code",
   "execution_count": null,
   "metadata": {},
   "outputs": [],
   "source": [
    "sum(job2[\"q7_grade\"])/len(job2[\"q7_grade\"])"
   ]
  },
  {
   "cell_type": "code",
   "execution_count": null,
   "metadata": {},
   "outputs": [],
   "source": [
    "sum(job3[\"q7_grade\"])/len(job3[\"q7_grade\"])"
   ]
  },
  {
   "cell_type": "code",
   "execution_count": null,
   "metadata": {},
   "outputs": [],
   "source": [
    "def decisionTreeRegressor(dataName, features, label):\n",
    "    from sklearn import datasets, tree\n",
    "    from sklearn.metrics import mean_squared_error\n",
    "    from sklearn.metrics import mean_absolute_error\n",
    "    from sklearn.metrics import r2_score\n",
    "    from sklearn.linear_model import LinearRegression\n",
    "    \n",
    "    trainingData_features = dataName[dataName.index%4 != 0][features]\n",
    "    trainingData_label = dataName[dataName.index%4 != 0][label]\n",
    "    testData_features = dataName[dataName.index%4 == 0][features]\n",
    "    testData_label = dataName[dataName.index%4 == 0]\n",
    "\n",
    "    model_method = tree.DecisionTreeRegressor()\n",
    "    model = model_method.fit(trainingData_features, trainingData_label)\n",
    "    decisionTreeRegressor = model.predict(testData_features)\n",
    "\n",
    "    decisionTreeRegressor = pd.DataFrame(decisionTreeRegressor)\n",
    "    decisionTreeRegressor.columns = [\"PREDICT\"]\n",
    "    decisionTreeRegressorResult = pd.concat([testData_label.reset_index(drop=True), decisionTreeRegressor], axis=1)\n",
    "\n",
    "    print(\"MAE : {:.2f}\".format(mean_absolute_error(testData_label.reset_index()[label], decisionTreeRegressorResult[\"PREDICT\"])))\n",
    "    print(\"MSE : {:.2f}\".format(mean_squared_error(testData_label.reset_index()[label], decisionTreeRegressorResult[\"PREDICT\"])))\n",
    "    print(\"RMSE : {:.2f}\".format(math.sqrt(mean_squared_error(testData_label.reset_index()[label], decisionTreeRegressorResult[\"PREDICT\"]))))\n",
    "    print(\"R2 : {:.2f}\".format(r2_score(testData_label[label], decisionTreeRegressorResult['PREDICT'])))\n",
    "\n",
    "    dot_data = StringIO()\n",
    "    export_graphviz(model, out_file=dot_data, \n",
    "                    rounded=True,\n",
    "                    feature_names = features,\n",
    "                    filled=True,\n",
    "                    impurity=False,\n",
    "                    node_ids=True,\n",
    "                    proportion=True,\n",
    "                    special_characters=False)\n",
    "    graph = pydotplus.graph_from_dot_data(dot_data.getvalue())  \n",
    "    return Image(graph.create_png())"
   ]
  },
  {
   "cell_type": "code",
   "execution_count": null,
   "metadata": {},
   "outputs": [],
   "source": [
    "features = []\n",
    "# features.append(\"q1\") # 당일/숙박 여행 여부\n",
    "#features.append(\"q3\") #여행목적\n",
    "#features.append(\"q4_a\") #정보획득지\n",
    "# features.append(\"q7_grade\") # 금액대\n",
    "# features.append(\"q8\") #사전예약여부\n",
    "\n",
    "features"
   ]
  },
  {
   "cell_type": "code",
   "execution_count": null,
   "metadata": {},
   "outputs": [],
   "source": [
    "label = ['q10_grade']\n",
    "label"
   ]
  },
  {
   "cell_type": "code",
   "execution_count": null,
   "metadata": {
    "scrolled": true
   },
   "outputs": [],
   "source": [
    "decisionTreeRegressor(job3,features,label)"
   ]
  },
  {
   "cell_type": "code",
   "execution_count": null,
   "metadata": {},
   "outputs": [],
   "source": []
  },
  {
   "cell_type": "code",
   "execution_count": null,
   "metadata": {},
   "outputs": [],
   "source": []
  },
  {
   "cell_type": "code",
   "execution_count": null,
   "metadata": {},
   "outputs": [],
   "source": []
  },
  {
   "cell_type": "code",
   "execution_count": null,
   "metadata": {},
   "outputs": [],
   "source": [
    "yearweekStd = 201630"
   ]
  },
  {
   "cell_type": "code",
   "execution_count": null,
   "metadata": {},
   "outputs": [],
   "source": [
    "trainingData_features = featuresData2[featuresData2.YEARWEEK <= yearweekStd][features]\n",
    "trainingData_label = featuresData2[featuresData2.YEARWEEK <= yearweekStd][label]\n",
    "testData_features = featuresData2[featuresData2.YEARWEEK > yearweekStd][features]\n",
    "testData_label = featuresData2[featuresData2.YEARWEEK > yearweekStd] "
   ]
  },
  {
   "cell_type": "code",
   "execution_count": null,
   "metadata": {},
   "outputs": [],
   "source": [
    "testData_label = testData_label.reset_index(drop=True)\n",
    "testData_label"
   ]
  },
  {
   "cell_type": "code",
   "execution_count": null,
   "metadata": {},
   "outputs": [],
   "source": [
    "trainingData_label"
   ]
  },
  {
   "cell_type": "code",
   "execution_count": null,
   "metadata": {},
   "outputs": [],
   "source": [
    "# Define Model\n",
    "model_method = tree.DecisionTreeRegressor()\n",
    "\n",
    "# Learning (학습지표 & 결과값)\n",
    "model = model_method.fit(trainingData_features,trainingData_label)"
   ]
  },
  {
   "cell_type": "code",
   "execution_count": null,
   "metadata": {},
   "outputs": [],
   "source": [
    "dot_data = StringIO()\n",
    "export_graphviz(model, out_file=dot_data, \n",
    "                rounded=True,\n",
    "                special_characters=True)\n",
    "graph = pydotplus.graph_from_dot_data(dot_data.getvalue())  \n",
    "Image(graph.create_png())"
   ]
  },
  {
   "cell_type": "code",
   "execution_count": null,
   "metadata": {},
   "outputs": [],
   "source": []
  },
  {
   "cell_type": "code",
   "execution_count": null,
   "metadata": {},
   "outputs": [],
   "source": []
  }
 ],
 "metadata": {
  "kernelspec": {
   "display_name": "Python 3",
   "language": "python",
   "name": "python3"
  },
  "language_info": {
   "codemirror_mode": {
    "name": "ipython",
    "version": 3
   },
   "file_extension": ".py",
   "mimetype": "text/x-python",
   "name": "python",
   "nbconvert_exporter": "python",
   "pygments_lexer": "ipython3",
   "version": "3.6.4"
  }
 },
 "nbformat": 4,
 "nbformat_minor": 2
}
