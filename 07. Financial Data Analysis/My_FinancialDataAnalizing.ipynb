{
 "cells": [
  {
   "cell_type": "code",
   "execution_count": 1,
   "metadata": {},
   "outputs": [],
   "source": [
    "import urllib.parse\n",
    "import pandas as pd"
   ]
  },
  {
   "cell_type": "code",
   "execution_count": 2,
   "metadata": {},
   "outputs": [],
   "source": [
    "MARKET_CODE_DICT = {\n",
    "    'kospi': 'stockMkt',\n",
    "    'kosdaq': 'kosdaqMkt',\n",
    "    'konex': 'konexMkt'\n",
    "}\n",
    "DOWNLOAD_URL = 'https://kind.krx.co.kr/corpgeneral/corpList.do'"
   ]
  },
  {
   "cell_type": "code",
   "execution_count": 3,
   "metadata": {},
   "outputs": [],
   "source": [
    "def zeroFill(columnValue):\n",
    "    columnValue = str(columnValue)\n",
    "    outValue = columnValue.zfill(6)\n",
    "    return outValue"
   ]
  },
  {
   "cell_type": "code",
   "execution_count": 4,
   "metadata": {},
   "outputs": [],
   "source": [
    "def get_stock_codes(market=None, delisted=False):\n",
    "    params = {'method': 'download'}\n",
    "\n",
    "    if market.lower() in MARKET_CODE_DICT:\n",
    "        ## marketType 키 추가\n",
    "        params['marketType'] = MARKET_CODE_DICT[market]\n",
    "        print(market.lower()+\" market key is exist\")\n",
    "    else:\n",
    "        #params['searchType'] = 13\n",
    "        print(\"invalid market\")\n",
    "\n",
    "    # make url  key=value & key = value\n",
    "    params_string = urllib.parse.urlencode(params)\n",
    "    request_url = DOWNLOAD_URL+\"?\"+params_string\n",
    "\n",
    "    df = pd.read_html(request_url, header=0)[0]\n",
    "    df[\"종목코드\"] = df.종목코드.apply(zeroFill)\n",
    "\n",
    "    return df"
   ]
  },
  {
   "cell_type": "code",
   "execution_count": 6,
   "metadata": {},
   "outputs": [],
   "source": [
    "params = {'method': 'download'}"
   ]
  },
  {
   "cell_type": "code",
   "execution_count": 13,
   "metadata": {},
   "outputs": [
    {
     "name": "stdout",
     "output_type": "stream",
     "text": [
      "kospi market key is exist\n"
     ]
    }
   ],
   "source": [
    "market='kospi'\n",
    "if market.lower() in MARKET_CODE_DICT:\n",
    "        ## marketType 키 추가\n",
    "        params['marketType'] = MARKET_CODE_DICT[market]\n",
    "        print(market.lower()+\" market key is exist\")\n",
    "else:\n",
    "    #params['searchType'] = 13\n",
    "    print(\"invalid market\")"
   ]
  },
  {
   "cell_type": "code",
   "execution_count": 14,
   "metadata": {},
   "outputs": [
    {
     "data": {
      "text/plain": [
       "{'marketType': 'stockMkt', 'method': 'download'}"
      ]
     },
     "execution_count": 14,
     "metadata": {},
     "output_type": "execute_result"
    }
   ],
   "source": [
    "params"
   ]
  },
  {
   "cell_type": "code",
   "execution_count": 15,
   "metadata": {},
   "outputs": [
    {
     "data": {
      "text/plain": [
       "'method=download&marketType=stockMkt'"
      ]
     },
     "execution_count": 15,
     "metadata": {},
     "output_type": "execute_result"
    }
   ],
   "source": [
    "params_string = urllib.parse.urlencode(params)\n",
    "params_string"
   ]
  },
  {
   "cell_type": "code",
   "execution_count": 16,
   "metadata": {},
   "outputs": [
    {
     "data": {
      "text/plain": [
       "'https://kind.krx.co.kr/corpgeneral/corpList.do?method=download&marketType=stockMkt'"
      ]
     },
     "execution_count": 16,
     "metadata": {},
     "output_type": "execute_result"
    }
   ],
   "source": [
    "request_url = DOWNLOAD_URL+\"?\"+params_string\n",
    "request_url"
   ]
  },
  {
   "cell_type": "code",
   "execution_count": 18,
   "metadata": {},
   "outputs": [
    {
     "data": {
      "text/html": [
       "<div>\n",
       "<style scoped>\n",
       "    .dataframe tbody tr th:only-of-type {\n",
       "        vertical-align: middle;\n",
       "    }\n",
       "\n",
       "    .dataframe tbody tr th {\n",
       "        vertical-align: top;\n",
       "    }\n",
       "\n",
       "    .dataframe thead th {\n",
       "        text-align: right;\n",
       "    }\n",
       "</style>\n",
       "<table border=\"1\" class=\"dataframe\">\n",
       "  <thead>\n",
       "    <tr style=\"text-align: right;\">\n",
       "      <th></th>\n",
       "      <th>회사명</th>\n",
       "      <th>종목코드</th>\n",
       "      <th>업종</th>\n",
       "      <th>주요제품</th>\n",
       "      <th>상장일</th>\n",
       "      <th>결산월</th>\n",
       "      <th>대표자명</th>\n",
       "      <th>홈페이지</th>\n",
       "      <th>지역</th>\n",
       "    </tr>\n",
       "  </thead>\n",
       "  <tbody>\n",
       "    <tr>\n",
       "      <th>0</th>\n",
       "      <td>JS전선</td>\n",
       "      <td>5560</td>\n",
       "      <td>절연선 및 케이블 제조업</td>\n",
       "      <td>선박선,고무선,전력선,통신선 제조</td>\n",
       "      <td>2007-11-12</td>\n",
       "      <td>12월</td>\n",
       "      <td>이익희</td>\n",
       "      <td>http://www.jscable.co.kr</td>\n",
       "      <td>충청남도</td>\n",
       "    </tr>\n",
       "    <tr>\n",
       "      <th>1</th>\n",
       "      <td>거북선2호</td>\n",
       "      <td>101380</td>\n",
       "      <td>NaN</td>\n",
       "      <td>운송장비(선박) 임대</td>\n",
       "      <td>2008-04-25</td>\n",
       "      <td>12월</td>\n",
       "      <td>신주선</td>\n",
       "      <td>NaN</td>\n",
       "      <td>부산광역시</td>\n",
       "    </tr>\n",
       "    <tr>\n",
       "      <th>2</th>\n",
       "      <td>거북선6호</td>\n",
       "      <td>114140</td>\n",
       "      <td>NaN</td>\n",
       "      <td>NaN</td>\n",
       "      <td>2009-10-01</td>\n",
       "      <td>12월</td>\n",
       "      <td>김연신</td>\n",
       "      <td>NaN</td>\n",
       "      <td>제주특별자치도</td>\n",
       "    </tr>\n",
       "    <tr>\n",
       "      <th>3</th>\n",
       "      <td>교보메리츠</td>\n",
       "      <td>64900</td>\n",
       "      <td>NaN</td>\n",
       "      <td>부동산 투자,운용</td>\n",
       "      <td>2002-01-30</td>\n",
       "      <td>12월</td>\n",
       "      <td>김 상 진</td>\n",
       "      <td>NaN</td>\n",
       "      <td>서울특별시</td>\n",
       "    </tr>\n",
       "    <tr>\n",
       "      <th>4</th>\n",
       "      <td>국제관광공사</td>\n",
       "      <td>28780</td>\n",
       "      <td>NaN</td>\n",
       "      <td>NaN</td>\n",
       "      <td>1966-03-18</td>\n",
       "      <td>12월</td>\n",
       "      <td>NaN</td>\n",
       "      <td>NaN</td>\n",
       "      <td>NaN</td>\n",
       "    </tr>\n",
       "  </tbody>\n",
       "</table>\n",
       "</div>"
      ],
      "text/plain": [
       "      회사명    종목코드             업종                주요제품         상장일  결산월   대표자명  \\\n",
       "0    JS전선    5560  절연선 및 케이블 제조업  선박선,고무선,전력선,통신선 제조  2007-11-12  12월    이익희   \n",
       "1   거북선2호  101380            NaN         운송장비(선박) 임대  2008-04-25  12월    신주선   \n",
       "2   거북선6호  114140            NaN                 NaN  2009-10-01  12월    김연신   \n",
       "3   교보메리츠   64900            NaN           부동산 투자,운용  2002-01-30  12월  김 상 진   \n",
       "4  국제관광공사   28780            NaN                 NaN  1966-03-18  12월    NaN   \n",
       "\n",
       "                       홈페이지       지역  \n",
       "0  http://www.jscable.co.kr     충청남도  \n",
       "1                       NaN    부산광역시  \n",
       "2                       NaN  제주특별자치도  \n",
       "3                       NaN    서울특별시  \n",
       "4                       NaN      NaN  "
      ]
     },
     "execution_count": 18,
     "metadata": {},
     "output_type": "execute_result"
    }
   ],
   "source": [
    "df = pd.read_html(request_url, header=0)[0]\n",
    "df.head()"
   ]
  },
  {
   "cell_type": "code",
   "execution_count": 21,
   "metadata": {},
   "outputs": [
    {
     "data": {
      "text/html": [
       "<div>\n",
       "<style scoped>\n",
       "    .dataframe tbody tr th:only-of-type {\n",
       "        vertical-align: middle;\n",
       "    }\n",
       "\n",
       "    .dataframe tbody tr th {\n",
       "        vertical-align: top;\n",
       "    }\n",
       "\n",
       "    .dataframe thead th {\n",
       "        text-align: right;\n",
       "    }\n",
       "</style>\n",
       "<table border=\"1\" class=\"dataframe\">\n",
       "  <thead>\n",
       "    <tr style=\"text-align: right;\">\n",
       "      <th></th>\n",
       "      <th>회사명</th>\n",
       "      <th>종목코드</th>\n",
       "      <th>업종</th>\n",
       "      <th>주요제품</th>\n",
       "      <th>상장일</th>\n",
       "      <th>결산월</th>\n",
       "      <th>대표자명</th>\n",
       "      <th>홈페이지</th>\n",
       "      <th>지역</th>\n",
       "    </tr>\n",
       "  </thead>\n",
       "  <tbody>\n",
       "    <tr>\n",
       "      <th>0</th>\n",
       "      <td>JS전선</td>\n",
       "      <td>005560</td>\n",
       "      <td>절연선 및 케이블 제조업</td>\n",
       "      <td>선박선,고무선,전력선,통신선 제조</td>\n",
       "      <td>2007-11-12</td>\n",
       "      <td>12월</td>\n",
       "      <td>이익희</td>\n",
       "      <td>http://www.jscable.co.kr</td>\n",
       "      <td>충청남도</td>\n",
       "    </tr>\n",
       "    <tr>\n",
       "      <th>1</th>\n",
       "      <td>거북선2호</td>\n",
       "      <td>101380</td>\n",
       "      <td>NaN</td>\n",
       "      <td>운송장비(선박) 임대</td>\n",
       "      <td>2008-04-25</td>\n",
       "      <td>12월</td>\n",
       "      <td>신주선</td>\n",
       "      <td>NaN</td>\n",
       "      <td>부산광역시</td>\n",
       "    </tr>\n",
       "    <tr>\n",
       "      <th>2</th>\n",
       "      <td>거북선6호</td>\n",
       "      <td>114140</td>\n",
       "      <td>NaN</td>\n",
       "      <td>NaN</td>\n",
       "      <td>2009-10-01</td>\n",
       "      <td>12월</td>\n",
       "      <td>김연신</td>\n",
       "      <td>NaN</td>\n",
       "      <td>제주특별자치도</td>\n",
       "    </tr>\n",
       "    <tr>\n",
       "      <th>3</th>\n",
       "      <td>교보메리츠</td>\n",
       "      <td>064900</td>\n",
       "      <td>NaN</td>\n",
       "      <td>부동산 투자,운용</td>\n",
       "      <td>2002-01-30</td>\n",
       "      <td>12월</td>\n",
       "      <td>김 상 진</td>\n",
       "      <td>NaN</td>\n",
       "      <td>서울특별시</td>\n",
       "    </tr>\n",
       "    <tr>\n",
       "      <th>4</th>\n",
       "      <td>국제관광공사</td>\n",
       "      <td>028780</td>\n",
       "      <td>NaN</td>\n",
       "      <td>NaN</td>\n",
       "      <td>1966-03-18</td>\n",
       "      <td>12월</td>\n",
       "      <td>NaN</td>\n",
       "      <td>NaN</td>\n",
       "      <td>NaN</td>\n",
       "    </tr>\n",
       "  </tbody>\n",
       "</table>\n",
       "</div>"
      ],
      "text/plain": [
       "      회사명    종목코드             업종                주요제품         상장일  결산월   대표자명  \\\n",
       "0    JS전선  005560  절연선 및 케이블 제조업  선박선,고무선,전력선,통신선 제조  2007-11-12  12월    이익희   \n",
       "1   거북선2호  101380            NaN         운송장비(선박) 임대  2008-04-25  12월    신주선   \n",
       "2   거북선6호  114140            NaN                 NaN  2009-10-01  12월    김연신   \n",
       "3   교보메리츠  064900            NaN           부동산 투자,운용  2002-01-30  12월  김 상 진   \n",
       "4  국제관광공사  028780            NaN                 NaN  1966-03-18  12월    NaN   \n",
       "\n",
       "                       홈페이지       지역  \n",
       "0  http://www.jscable.co.kr     충청남도  \n",
       "1                       NaN    부산광역시  \n",
       "2                       NaN  제주특별자치도  \n",
       "3                       NaN    서울특별시  \n",
       "4                       NaN      NaN  "
      ]
     },
     "execution_count": 21,
     "metadata": {},
     "output_type": "execute_result"
    }
   ],
   "source": [
    "df[\"종목코드\"] = df.종목코드.apply(zeroFill)\n",
    "df.head()"
   ]
  },
  {
   "cell_type": "code",
   "execution_count": 30,
   "metadata": {},
   "outputs": [
    {
     "name": "stdout",
     "output_type": "stream",
     "text": [
      "kospi market key is exist\n"
     ]
    },
    {
     "data": {
      "text/html": [
       "<div>\n",
       "<style scoped>\n",
       "    .dataframe tbody tr th:only-of-type {\n",
       "        vertical-align: middle;\n",
       "    }\n",
       "\n",
       "    .dataframe tbody tr th {\n",
       "        vertical-align: top;\n",
       "    }\n",
       "\n",
       "    .dataframe thead th {\n",
       "        text-align: right;\n",
       "    }\n",
       "</style>\n",
       "<table border=\"1\" class=\"dataframe\">\n",
       "  <thead>\n",
       "    <tr style=\"text-align: right;\">\n",
       "      <th></th>\n",
       "      <th>회사명</th>\n",
       "      <th>종목코드</th>\n",
       "      <th>업종</th>\n",
       "      <th>주요제품</th>\n",
       "      <th>상장일</th>\n",
       "      <th>결산월</th>\n",
       "      <th>대표자명</th>\n",
       "      <th>홈페이지</th>\n",
       "      <th>지역</th>\n",
       "    </tr>\n",
       "  </thead>\n",
       "  <tbody>\n",
       "    <tr>\n",
       "      <th>0</th>\n",
       "      <td>JS전선</td>\n",
       "      <td>005560</td>\n",
       "      <td>절연선 및 케이블 제조업</td>\n",
       "      <td>선박선,고무선,전력선,통신선 제조</td>\n",
       "      <td>2007-11-12</td>\n",
       "      <td>12월</td>\n",
       "      <td>이익희</td>\n",
       "      <td>http://www.jscable.co.kr</td>\n",
       "      <td>충청남도</td>\n",
       "    </tr>\n",
       "    <tr>\n",
       "      <th>1</th>\n",
       "      <td>거북선2호</td>\n",
       "      <td>101380</td>\n",
       "      <td>NaN</td>\n",
       "      <td>운송장비(선박) 임대</td>\n",
       "      <td>2008-04-25</td>\n",
       "      <td>12월</td>\n",
       "      <td>신주선</td>\n",
       "      <td>NaN</td>\n",
       "      <td>부산광역시</td>\n",
       "    </tr>\n",
       "  </tbody>\n",
       "</table>\n",
       "</div>"
      ],
      "text/plain": [
       "     회사명    종목코드             업종                주요제품         상장일  결산월 대표자명  \\\n",
       "0   JS전선  005560  절연선 및 케이블 제조업  선박선,고무선,전력선,통신선 제조  2007-11-12  12월  이익희   \n",
       "1  거북선2호  101380            NaN         운송장비(선박) 임대  2008-04-25  12월  신주선   \n",
       "\n",
       "                       홈페이지     지역  \n",
       "0  http://www.jscable.co.kr   충청남도  \n",
       "1                       NaN  부산광역시  "
      ]
     },
     "execution_count": 30,
     "metadata": {},
     "output_type": "execute_result"
    }
   ],
   "source": [
    "stocks = get_stock_codes('kospi')\n",
    "stocks.head(2)"
   ]
  },
  {
   "cell_type": "code",
   "execution_count": null,
   "metadata": {},
   "outputs": [],
   "source": []
  },
  {
   "cell_type": "code",
   "execution_count": 28,
   "metadata": {
    "scrolled": true
   },
   "outputs": [
    {
     "name": "stdout",
     "output_type": "stream",
     "text": [
      "Enter a stock_name: CJ제일제당\n"
     ]
    }
   ],
   "source": [
    "myStock = input(\"Enter a stock_name: \")"
   ]
  },
  {
   "cell_type": "code",
   "execution_count": 31,
   "metadata": {},
   "outputs": [
    {
     "data": {
      "text/html": [
       "<div>\n",
       "<style scoped>\n",
       "    .dataframe tbody tr th:only-of-type {\n",
       "        vertical-align: middle;\n",
       "    }\n",
       "\n",
       "    .dataframe tbody tr th {\n",
       "        vertical-align: top;\n",
       "    }\n",
       "\n",
       "    .dataframe thead th {\n",
       "        text-align: right;\n",
       "    }\n",
       "</style>\n",
       "<table border=\"1\" class=\"dataframe\">\n",
       "  <thead>\n",
       "    <tr style=\"text-align: right;\">\n",
       "      <th></th>\n",
       "      <th>회사명</th>\n",
       "      <th>종목코드</th>\n",
       "    </tr>\n",
       "  </thead>\n",
       "  <tbody>\n",
       "    <tr>\n",
       "      <th>799</th>\n",
       "      <td>CJ제일제당</td>\n",
       "      <td>097950</td>\n",
       "    </tr>\n",
       "  </tbody>\n",
       "</table>\n",
       "</div>"
      ],
      "text/plain": [
       "        회사명    종목코드\n",
       "799  CJ제일제당  097950"
      ]
     },
     "execution_count": 31,
     "metadata": {},
     "output_type": "execute_result"
    }
   ],
   "source": [
    "stock_codeDF= stocks[(stocks.회사명==myStock)][['회사명','종목코드']]\n",
    "stock_codeDF"
   ]
  },
  {
   "cell_type": "code",
   "execution_count": 33,
   "metadata": {},
   "outputs": [
    {
     "name": "stdout",
     "output_type": "stream",
     "text": [
      "CJ제일제당\n",
      "097950\n"
     ]
    }
   ],
   "source": [
    "stock_code = stock_codeDF.iloc[0]['종목코드']\n",
    "stock_name = stock_codeDF.iloc[0]['회사명']\n",
    "print(stock_name)\n",
    "print(stock_code)"
   ]
  },
  {
   "cell_type": "code",
   "execution_count": null,
   "metadata": {},
   "outputs": [],
   "source": []
  },
  {
   "cell_type": "code",
   "execution_count": 34,
   "metadata": {},
   "outputs": [],
   "source": [
    "import FinanceDataReader as web\n",
    "from datetime import date, timedelta\n",
    "import matplotlib.pyplot as plt\n",
    "import datetime\n",
    "%matplotlib inline"
   ]
  },
  {
   "cell_type": "code",
   "execution_count": 35,
   "metadata": {},
   "outputs": [
    {
     "name": "stdout",
     "output_type": "stream",
     "text": [
      "Populating the interactive namespace from numpy and matplotlib\n"
     ]
    }
   ],
   "source": [
    "#font setting for window\n",
    "#font setting for mac (AppleGothic)\n",
    "%matplotlib inline\n",
    "# Control the default size of figures in this Jupyter notebook\n",
    "%pylab inline\n",
    "pylab.rcParams['figure.figsize'] = (15, 9) \n",
    "\n",
    "from matplotlib import font_manager, rc\n",
    "font_name = font_manager.FontProperties(fname=\"c:/Windows/Fonts/malgun.ttf\").get_name()\n",
    "rc('font', family=font_name)"
   ]
  },
  {
   "cell_type": "code",
   "execution_count": 36,
   "metadata": {},
   "outputs": [
    {
     "data": {
      "image/png": "[encoded data removed]",
      "text/plain": [
       "<matplotlib.figure.Figure at 0xadfa390>"
      ]
     },
     "metadata": {},
     "output_type": "display_data"
    },
    {
     "data": {
      "text/html": [
       "<div>\n",
       "<style scoped>\n",
       "    .dataframe tbody tr th:only-of-type {\n",
       "        vertical-align: middle;\n",
       "    }\n",
       "\n",
       "    .dataframe tbody tr th {\n",
       "        vertical-align: top;\n",
       "    }\n",
       "\n",
       "    .dataframe thead th {\n",
       "        text-align: right;\n",
       "    }\n",
       "</style>\n",
       "<table border=\"1\" class=\"dataframe\">\n",
       "  <thead>\n",
       "    <tr style=\"text-align: right;\">\n",
       "      <th></th>\n",
       "      <th>Open</th>\n",
       "      <th>High</th>\n",
       "      <th>Low</th>\n",
       "      <th>Close</th>\n",
       "      <th>Volume</th>\n",
       "      <th>Change</th>\n",
       "    </tr>\n",
       "    <tr>\n",
       "      <th>Date</th>\n",
       "      <th></th>\n",
       "      <th></th>\n",
       "      <th></th>\n",
       "      <th></th>\n",
       "      <th></th>\n",
       "      <th></th>\n",
       "    </tr>\n",
       "  </thead>\n",
       "  <tbody>\n",
       "    <tr>\n",
       "      <th>2019-06-17</th>\n",
       "      <td>294000</td>\n",
       "      <td>294000</td>\n",
       "      <td>288500</td>\n",
       "      <td>289000</td>\n",
       "      <td>29117</td>\n",
       "      <td>-0.017007</td>\n",
       "    </tr>\n",
       "    <tr>\n",
       "      <th>2019-06-18</th>\n",
       "      <td>289500</td>\n",
       "      <td>295500</td>\n",
       "      <td>289500</td>\n",
       "      <td>295500</td>\n",
       "      <td>32169</td>\n",
       "      <td>0.022491</td>\n",
       "    </tr>\n",
       "    <tr>\n",
       "      <th>2019-06-19</th>\n",
       "      <td>295000</td>\n",
       "      <td>299500</td>\n",
       "      <td>292500</td>\n",
       "      <td>297500</td>\n",
       "      <td>36179</td>\n",
       "      <td>0.006768</td>\n",
       "    </tr>\n",
       "    <tr>\n",
       "      <th>2019-06-20</th>\n",
       "      <td>296000</td>\n",
       "      <td>298500</td>\n",
       "      <td>296000</td>\n",
       "      <td>298000</td>\n",
       "      <td>26386</td>\n",
       "      <td>0.001681</td>\n",
       "    </tr>\n",
       "    <tr>\n",
       "      <th>2019-06-21</th>\n",
       "      <td>296500</td>\n",
       "      <td>301500</td>\n",
       "      <td>296000</td>\n",
       "      <td>301500</td>\n",
       "      <td>37788</td>\n",
       "      <td>0.011745</td>\n",
       "    </tr>\n",
       "  </tbody>\n",
       "</table>\n",
       "</div>"
      ],
      "text/plain": [
       "              Open    High     Low   Close  Volume    Change\n",
       "Date                                                        \n",
       "2019-06-17  294000  294000  288500  289000   29117 -0.017007\n",
       "2019-06-18  289500  295500  289500  295500   32169  0.022491\n",
       "2019-06-19  295000  299500  292500  297500   36179  0.006768\n",
       "2019-06-20  296000  298500  296000  298000   26386  0.001681\n",
       "2019-06-21  296500  301500  296000  301500   37788  0.011745"
      ]
     },
     "execution_count": 36,
     "metadata": {},
     "output_type": "execute_result"
    }
   ],
   "source": [
    "end = date.today()\n",
    "start = date.today() - timedelta(720)\n",
    "\n",
    "SEC = web.DataReader(stock_code, start, end)\n",
    "SEC['Close'].plot(style='-')\n",
    "plt.title(stock_name+\" 종가 시세\")\n",
    "plt.show()\n",
    "\n",
    "SEC.tail()"
   ]
  },
  {
   "cell_type": "code",
   "execution_count": 37,
   "metadata": {},
   "outputs": [
    {
     "data": {
      "text/html": [
       "<div>\n",
       "<style scoped>\n",
       "    .dataframe tbody tr th:only-of-type {\n",
       "        vertical-align: middle;\n",
       "    }\n",
       "\n",
       "    .dataframe tbody tr th {\n",
       "        vertical-align: top;\n",
       "    }\n",
       "\n",
       "    .dataframe thead th {\n",
       "        text-align: right;\n",
       "    }\n",
       "</style>\n",
       "<table border=\"1\" class=\"dataframe\">\n",
       "  <thead>\n",
       "    <tr style=\"text-align: right;\">\n",
       "      <th></th>\n",
       "      <th>Open</th>\n",
       "      <th>High</th>\n",
       "      <th>Low</th>\n",
       "      <th>Close</th>\n",
       "      <th>Volume</th>\n",
       "      <th>Change</th>\n",
       "      <th>MA_5</th>\n",
       "      <th>MA_20</th>\n",
       "      <th>diff</th>\n",
       "    </tr>\n",
       "    <tr>\n",
       "      <th>Date</th>\n",
       "      <th></th>\n",
       "      <th></th>\n",
       "      <th></th>\n",
       "      <th></th>\n",
       "      <th></th>\n",
       "      <th></th>\n",
       "      <th></th>\n",
       "      <th></th>\n",
       "      <th></th>\n",
       "    </tr>\n",
       "  </thead>\n",
       "  <tbody>\n",
       "    <tr>\n",
       "      <th>2019-06-17</th>\n",
       "      <td>294000</td>\n",
       "      <td>294000</td>\n",
       "      <td>288500</td>\n",
       "      <td>289000</td>\n",
       "      <td>29117</td>\n",
       "      <td>-0.017007</td>\n",
       "      <td>288000.0</td>\n",
       "      <td>283050.0</td>\n",
       "      <td>4950.0</td>\n",
       "    </tr>\n",
       "    <tr>\n",
       "      <th>2019-06-18</th>\n",
       "      <td>289500</td>\n",
       "      <td>295500</td>\n",
       "      <td>289500</td>\n",
       "      <td>295500</td>\n",
       "      <td>32169</td>\n",
       "      <td>0.022491</td>\n",
       "      <td>290300.0</td>\n",
       "      <td>283675.0</td>\n",
       "      <td>6625.0</td>\n",
       "    </tr>\n",
       "    <tr>\n",
       "      <th>2019-06-19</th>\n",
       "      <td>295000</td>\n",
       "      <td>299500</td>\n",
       "      <td>292500</td>\n",
       "      <td>297500</td>\n",
       "      <td>36179</td>\n",
       "      <td>0.006768</td>\n",
       "      <td>292800.0</td>\n",
       "      <td>284375.0</td>\n",
       "      <td>8425.0</td>\n",
       "    </tr>\n",
       "    <tr>\n",
       "      <th>2019-06-20</th>\n",
       "      <td>296000</td>\n",
       "      <td>298500</td>\n",
       "      <td>296000</td>\n",
       "      <td>298000</td>\n",
       "      <td>26386</td>\n",
       "      <td>0.001681</td>\n",
       "      <td>294800.0</td>\n",
       "      <td>285375.0</td>\n",
       "      <td>9425.0</td>\n",
       "    </tr>\n",
       "    <tr>\n",
       "      <th>2019-06-21</th>\n",
       "      <td>296500</td>\n",
       "      <td>301500</td>\n",
       "      <td>296000</td>\n",
       "      <td>301500</td>\n",
       "      <td>37788</td>\n",
       "      <td>0.011745</td>\n",
       "      <td>296300.0</td>\n",
       "      <td>286200.0</td>\n",
       "      <td>10100.0</td>\n",
       "    </tr>\n",
       "  </tbody>\n",
       "</table>\n",
       "</div>"
      ],
      "text/plain": [
       "              Open    High     Low   Close  Volume    Change      MA_5  \\\n",
       "Date                                                                     \n",
       "2019-06-17  294000  294000  288500  289000   29117 -0.017007  288000.0   \n",
       "2019-06-18  289500  295500  289500  295500   32169  0.022491  290300.0   \n",
       "2019-06-19  295000  299500  292500  297500   36179  0.006768  292800.0   \n",
       "2019-06-20  296000  298500  296000  298000   26386  0.001681  294800.0   \n",
       "2019-06-21  296500  301500  296000  301500   37788  0.011745  296300.0   \n",
       "\n",
       "               MA_20     diff  \n",
       "Date                           \n",
       "2019-06-17  283050.0   4950.0  \n",
       "2019-06-18  283675.0   6625.0  \n",
       "2019-06-19  284375.0   8425.0  \n",
       "2019-06-20  285375.0   9425.0  \n",
       "2019-06-21  286200.0  10100.0  "
      ]
     },
     "execution_count": 37,
     "metadata": {},
     "output_type": "execute_result"
    }
   ],
   "source": [
    "# 최근 데이터부터 5일 전까지의 CLOSE평균 (이동평균)\n",
    "SEC['MA_5']=SEC['Close'].rolling(window=5).mean()\n",
    "# 최근 데이터부터 20일 전까지의 CLOSE평균 (이동평균)\n",
    "SEC['MA_20']=SEC['Close'].rolling(window=20).mean()\n",
    "SEC['diff']=SEC['MA_5']-SEC['MA_20']\n",
    "SEC.tail(5)"
   ]
  },
  {
   "cell_type": "code",
   "execution_count": 38,
   "metadata": {},
   "outputs": [
    {
     "data": {
      "text/plain": [
       "Open        int64\n",
       "High        int64\n",
       "Low         int64\n",
       "Close       int64\n",
       "Volume      int64\n",
       "Change    float64\n",
       "MA_5      float64\n",
       "MA_20     float64\n",
       "diff      float64\n",
       "dtype: object"
      ]
     },
     "execution_count": 38,
     "metadata": {},
     "output_type": "execute_result"
    }
   ],
   "source": [
    "SEC.dtypes"
   ]
  },
  {
   "cell_type": "code",
   "execution_count": 39,
   "metadata": {},
   "outputs": [],
   "source": [
    "# plot index\n",
    "plot_end = date.today()\n",
    "plot_start = date.today() - timedelta(120) \n",
    "SEC = SEC[plot_start:plot_end]"
   ]
  },
  {
   "cell_type": "code",
   "execution_count": 45,
   "metadata": {},
   "outputs": [
    {
     "data": {
      "text/plain": [
       "<matplotlib.lines.Line2D at 0xb70efd0>"
      ]
     },
     "execution_count": 45,
     "metadata": {},
     "output_type": "execute_result"
    },
    {
     "data": {
      "image/png": "[encoded data removed]",
      "text/plain": [
       "<matplotlib.figure.Figure at 0xd7fec50>"
      ]
     },
     "metadata": {},
     "output_type": "display_data"
    }
   ],
   "source": [
    "plt.figure(figsize = (16,10))\n",
    "\n",
    "#price (가격)\n",
    "plt.subplot(311)    # 3행 중 1열1행\n",
    "plt.plot(SEC.index, SEC['Close'], label = 'Adj Close')\n",
    "plt.plot(SEC.index, SEC['MA_5'], label='MA 5day')\n",
    "plt.plot(SEC.index, SEC['MA_20'], label='MA 20day')\n",
    "plt.title(stock_name+\" 분석결과\")\n",
    "plt.legend(loc='best')\n",
    "\n",
    "# volume (거래량)\n",
    "plt.subplot(312)     #3행 중 1열2행\n",
    "plt.bar(SEC.index, SEC['Volume'], color='black')\n",
    "\n",
    "#  이동평균 차이 (diff)\n",
    "diffChart = plt.subplot(313)   #3행 중 1열3행\n",
    "diffChart.plot(SEC.index, SEC['diff'].fillna(0), color='g')\n",
    "plt.axhline(y=0, color='k')"
   ]
  },
  {
   "cell_type": "code",
   "execution_count": 41,
   "metadata": {},
   "outputs": [
    {
     "data": {
      "text/plain": [
       "<matplotlib.lines.Line2D at 0xb373550>"
      ]
     },
     "execution_count": 41,
     "metadata": {},
     "output_type": "execute_result"
    },
    {
     "data": {
      "image/png": "[encoded data removed]",
      "text/plain": [
       "<matplotlib.figure.Figure at 0xa4dc438>"
      ]
     },
     "metadata": {},
     "output_type": "display_data"
    }
   ],
   "source": [
    "# np.where() is a vectorized if-else function, where a condition is checked for each component of a vector, and the first argument passed is used when the condition holds, and the other passed if it does not\n",
    "SEC[\"Regime\"] = np.where(SEC['diff'] > 0, 1, 0)\n",
    "# We have 1's for bullish regimes and 0's for everything else. Below I replace bearish regimes's values with -1, and to maintain the rest of the vector, the second argument is apple[\"Regime\"]\n",
    "SEC[\"Regime\"] = np.where(SEC['diff'] < 0, -1, SEC[\"Regime\"])\n",
    "SEC.loc[start:end,\"Regime\"].plot(ylim = (-2,2)).axhline(y = 0, color = \"black\", lw = 2)"
   ]
  },
  {
   "cell_type": "code",
   "execution_count": null,
   "metadata": {},
   "outputs": [],
   "source": []
  },
  {
   "cell_type": "code",
   "execution_count": null,
   "metadata": {},
   "outputs": [],
   "source": []
  },
  {
   "cell_type": "code",
   "execution_count": null,
   "metadata": {},
   "outputs": [],
   "source": []
  },
  {
   "cell_type": "code",
   "execution_count": null,
   "metadata": {},
   "outputs": [],
   "source": []
  },
  {
   "cell_type": "code",
   "execution_count": null,
   "metadata": {},
   "outputs": [],
   "source": []
  },
  {
   "cell_type": "code",
   "execution_count": null,
   "metadata": {},
   "outputs": [],
   "source": []
  },
  {
   "cell_type": "code",
   "execution_count": null,
   "metadata": {},
   "outputs": [],
   "source": []
  },
  {
   "cell_type": "code",
   "execution_count": null,
   "metadata": {},
   "outputs": [],
   "source": []
  },
  {
   "cell_type": "code",
   "execution_count": null,
   "metadata": {},
   "outputs": [],
   "source": []
  },
  {
   "cell_type": "code",
   "execution_count": null,
   "metadata": {},
   "outputs": [],
   "source": []
  },
  {
   "cell_type": "code",
   "execution_count": null,
   "metadata": {},
   "outputs": [],
   "source": []
  }
 ],
 "metadata": {
  "kernelspec": {
   "display_name": "Python 3",
   "language": "python",
   "name": "python3"
  },
  "language_info": {
   "codemirror_mode": {
    "name": "ipython",
    "version": 3
   },
   "file_extension": ".py",
   "mimetype": "text/x-python",
   "name": "python",
   "nbconvert_exporter": "python",
   "pygments_lexer": "ipython3",
   "version": "3.6.4"
  }
 },
 "nbformat": 4,
 "nbformat_minor": 2
}
