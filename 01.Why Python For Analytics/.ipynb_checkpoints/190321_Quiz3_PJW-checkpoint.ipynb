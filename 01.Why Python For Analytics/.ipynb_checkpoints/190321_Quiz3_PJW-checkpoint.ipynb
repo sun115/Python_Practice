{
 "cells": [
  {
   "cell_type": "code",
   "execution_count": 3,
   "metadata": {},
   "outputs": [],
   "source": [
    "import pandas as pd"
   ]
  },
  {
   "cell_type": "code",
   "execution_count": 1,
   "metadata": {},
   "outputs": [],
   "source": [
    "def avgList(targetList):\n",
    "    minValue = min(targetList);\n",
    "    maxValue = max(targetList);\n",
    "    countMin = targetList.count(minValue);\n",
    "    countMax = targetList.count(maxValue);\n",
    "    \n",
    "    for i in range(0,countMin):\n",
    "        targetList.remove(minValue)\n",
    "    for j in range(0,countMax):\n",
    "        targetList.remove(maxValue)\n",
    "    \n",
    "    avg = sum(targetList) / len(targetList)\n",
    "    \n",
    "    return avg"
   ]
  },
  {
   "cell_type": "code",
   "execution_count": 5,
   "metadata": {},
   "outputs": [
    {
     "name": "stdout",
     "output_type": "stream",
     "text": [
      "35248.91490376756\n"
     ]
    }
   ],
   "source": [
    "customerData = pd.read_csv(\"./dataset/kopo_customerdata.csv\")\n",
    "customerTotalList = customerData[\"TOTAL_AMOUNT\"].tolist()\n",
    "customerTotalList\n",
    "print(avgList(customerTotalList))"
   ]
  }
 ],
 "metadata": {
  "kernelspec": {
   "display_name": "Python 3",
   "language": "python",
   "name": "python3"
  },
  "language_info": {
   "codemirror_mode": {
    "name": "ipython",
    "version": 3
   },
   "file_extension": ".py",
   "mimetype": "text/x-python",
   "name": "python",
   "nbconvert_exporter": "python",
   "pygments_lexer": "ipython3",
   "version": "3.7.1"
  }
 },
 "nbformat": 4,
 "nbformat_minor": 2
}
