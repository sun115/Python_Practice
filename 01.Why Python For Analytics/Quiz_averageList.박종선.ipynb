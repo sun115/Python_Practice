{
 "cells": [
  {
   "cell_type": "code",
   "execution_count": 1,
   "metadata": {},
   "outputs": [],
   "source": [
    "def aveList(List):\n",
    "    List.sort()\n",
    "    print(List)\n",
    "    minV = min(List)\n",
    "    maxV = max(List)\n",
    "    while (List.count(minV) > 0) and (List.count(maxV) > 0):\n",
    "        List.remove(minV)\n",
    "        List.remove(maxV)\n",
    "    print(List)\n",
    "    average = sum(List)/len(List)\n",
    "    return average"
   ]
  },
  {
   "cell_type": "code",
   "execution_count": 2,
   "metadata": {},
   "outputs": [],
   "source": [
    "ListA = [5,9,98,54,12,75,6,546,212,989,656,212,45,3,1]"
   ]
  },
  {
   "cell_type": "code",
   "execution_count": 3,
   "metadata": {},
   "outputs": [
    {
     "name": "stdout",
     "output_type": "stream",
     "text": [
      "[1, 3, 5, 6, 9, 12, 45, 54, 75, 98, 212, 212, 546, 656, 989]\n",
      "[3, 5, 6, 9, 12, 45, 54, 75, 98, 212, 212, 546, 656]\n"
     ]
    },
    {
     "data": {
      "text/plain": [
       "148.69230769230768"
      ]
     },
     "execution_count": 3,
     "metadata": {},
     "output_type": "execute_result"
    }
   ],
   "source": [
    "aveList(ListA)"
   ]
  },
  {
   "cell_type": "code",
   "execution_count": 7,
   "metadata": {},
   "outputs": [],
   "source": [
    "def aveList2(List2):\n",
    "    List2.sort()\n",
    "    print(List2)\n",
    "    minV2 = min(List2)\n",
    "    maxV2 = max(List2)\n",
    "    for a in range(0,List2.count(minV2)):\n",
    "        List2.remove(minV2);\n",
    "    for b in range(0,List2.count(maxV2)):\n",
    "        List2.remove(maxV2);    \n",
    "    print(List2)\n",
    "    average = sum(List2)/len(List2)\n",
    "    return average"
   ]
  },
  {
   "cell_type": "code",
   "execution_count": 8,
   "metadata": {},
   "outputs": [],
   "source": [
    "ListB = [1,9,7,5,98,54,21,59,65,87,65,87]"
   ]
  },
  {
   "cell_type": "code",
   "execution_count": 9,
   "metadata": {},
   "outputs": [
    {
     "name": "stdout",
     "output_type": "stream",
     "text": [
      "[1, 5, 7, 9, 21, 54, 59, 65, 65, 87, 87, 98]\n",
      "[5, 7, 9, 21, 54, 59, 65, 65, 87, 87]\n"
     ]
    },
    {
     "data": {
      "text/plain": [
       "45.9"
      ]
     },
     "execution_count": 9,
     "metadata": {},
     "output_type": "execute_result"
    }
   ],
   "source": [
    "aveList2(ListB)"
   ]
  },
  {
   "cell_type": "code",
   "execution_count": null,
   "metadata": {},
   "outputs": [],
   "source": []
  }
 ],
 "metadata": {
  "kernelspec": {
   "display_name": "Python 3",
   "language": "python",
   "name": "python3"
  },
  "language_info": {
   "codemirror_mode": {
    "name": "ipython",
    "version": 3
   },
   "file_extension": ".py",
   "mimetype": "text/x-python",
   "name": "python",
   "nbconvert_exporter": "python",
   "pygments_lexer": "ipython3",
   "version": "3.6.4"
  }
 },
 "nbformat": 4,
 "nbformat_minor": 2
}
